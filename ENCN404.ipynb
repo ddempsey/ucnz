{
 "cells": [
  {
   "cell_type": "markdown",
   "id": "581effe1",
   "metadata": {},
   "source": [
    "# <div style=\"text-align: center\">Machine Learning and Artificial Intelligence</div>\n",
    "\n",
    "<div style=\"text-align: center\"> <sub>ENCN404 - Modern Modelling Practices in Civil Engineering</sub></div>\n",
    "\n",
    "$\\,$\n",
    "\n",
    "<div style=\"text-align: center\"> University of Canterbury </div>\n",
    "\n",
    "$\\,$\n",
    "\n",
    "<img src=\"img/ml.png\" alt=\"Drawing\" style=\"width: 600px;\"/>\n",
    "\n",
    "### Notebook instructions\n",
    "\n",
    "Run cells containing code by clicking on them and hitting **Ctrl+Enter** or by Cell>Run Cells in the drop-down menu.\n",
    "\n",
    "For queries, contact the course instructor or notebook author (David Dempsey)\n",
    "\n",
    "#### Contents\n",
    "*Explorative AI*\n",
    "1. Data Exploration with Pandas\n",
    "2. Feature Engineering\n",
    "3. Unsupervised Learning and Clustering\n",
    "4. Hypothesis Testing\n",
    "\n",
    "*Predictive AI*\n",
    "\n",
    "5. Supervised Learning\n",
    "6. Learning Algorithms\n",
    "7. Performance Metrics\n",
    "8. Cross Validation\n",
    "\n",
    "*Generative AI*\n",
    "\n",
    "9. AI-assisted coding\n"
   ]
  },
  {
   "cell_type": "markdown",
   "id": "c3ea250d",
   "metadata": {},
   "source": [
    "# Explorative AI"
   ]
  },
  {
   "cell_type": "code",
   "execution_count": 1,
   "id": "8107522b",
   "metadata": {
    "scrolled": true
   },
   "outputs": [],
   "source": [
    "import pandas as pd\n",
    "import numpy as np\n",
    "from matplotlib import pyplot as plt"
   ]
  },
  {
   "cell_type": "markdown",
   "id": "129d83fd",
   "metadata": {},
   "source": [
    "## 1. Data Exploration with Pandas\n",
    "\n",
    "Work through the examples below during the lecture"
   ]
  },
  {
   "cell_type": "markdown",
   "id": "a3bdc526",
   "metadata": {},
   "source": [
    "### 1.1 DataFrame"
   ]
  },
  {
   "cell_type": "code",
   "execution_count": 2,
   "id": "d0a3168d",
   "metadata": {
    "scrolled": true
   },
   "outputs": [
    {
     "data": {
      "text/html": [
       "<div>\n",
       "<style scoped>\n",
       "    .dataframe tbody tr th:only-of-type {\n",
       "        vertical-align: middle;\n",
       "    }\n",
       "\n",
       "    .dataframe tbody tr th {\n",
       "        vertical-align: top;\n",
       "    }\n",
       "\n",
       "    .dataframe thead th {\n",
       "        text-align: right;\n",
       "    }\n",
       "</style>\n",
       "<table border=\"1\" class=\"dataframe\">\n",
       "  <thead>\n",
       "    <tr style=\"text-align: right;\">\n",
       "      <th></th>\n",
       "      <th>time</th>\n",
       "      <th>rainfall</th>\n",
       "      <th>runoff</th>\n",
       "    </tr>\n",
       "  </thead>\n",
       "  <tbody>\n",
       "    <tr>\n",
       "      <th>0</th>\n",
       "      <td>30</td>\n",
       "      <td>4</td>\n",
       "      <td>0.0</td>\n",
       "    </tr>\n",
       "    <tr>\n",
       "      <th>1</th>\n",
       "      <td>60</td>\n",
       "      <td>11</td>\n",
       "      <td>0.0</td>\n",
       "    </tr>\n",
       "    <tr>\n",
       "      <th>2</th>\n",
       "      <td>90</td>\n",
       "      <td>32</td>\n",
       "      <td>1.7</td>\n",
       "    </tr>\n",
       "    <tr>\n",
       "      <th>3</th>\n",
       "      <td>120</td>\n",
       "      <td>8</td>\n",
       "      <td>8.6</td>\n",
       "    </tr>\n",
       "    <tr>\n",
       "      <th>4</th>\n",
       "      <td>150</td>\n",
       "      <td>0</td>\n",
       "      <td>3.1</td>\n",
       "    </tr>\n",
       "  </tbody>\n",
       "</table>\n",
       "</div>"
      ],
      "text/plain": [
       "   time  rainfall  runoff\n",
       "0    30         4     0.0\n",
       "1    60        11     0.0\n",
       "2    90        32     1.7\n",
       "3   120         8     8.6\n",
       "4   150         0     3.1"
      ]
     },
     "execution_count": 2,
     "metadata": {},
     "output_type": "execute_result"
    }
   ],
   "source": [
    "# The most important object is the DataFrame. Think of this like a table in a spreadsheet.\n",
    "data={'time': [30, 60, 90, 120, 150], 'rainfall': [4, 11, 32, 8, 0], 'runoff': [0, 0, 1.7, 8.6, 3.1]}\n",
    "\n",
    "# create the dataframe from a dictionary of data\n",
    "df=pd.DataFrame(data)\n",
    "\n",
    "# look at the dataframe\n",
    "df.head()"
   ]
  },
  {
   "cell_type": "code",
   "execution_count": 3,
   "id": "d2050062",
   "metadata": {
    "scrolled": true
   },
   "outputs": [
    {
     "data": {
      "text/plain": [
       "Index(['time', 'rainfall', 'runoff'], dtype='object')"
      ]
     },
     "execution_count": 3,
     "metadata": {},
     "output_type": "execute_result"
    }
   ],
   "source": [
    "# display the column names\n",
    "df.columns"
   ]
  },
  {
   "cell_type": "code",
   "execution_count": 4,
   "id": "e2c356c6",
   "metadata": {
    "scrolled": true
   },
   "outputs": [
    {
     "data": {
      "text/plain": [
       "(5, 3)"
      ]
     },
     "execution_count": 4,
     "metadata": {},
     "output_type": "execute_result"
    }
   ],
   "source": [
    "# display the row and column counts\n",
    "df.shape"
   ]
  },
  {
   "cell_type": "markdown",
   "id": "3b79abf3",
   "metadata": {},
   "source": [
    "### 1.2 Index"
   ]
  },
  {
   "cell_type": "code",
   "execution_count": 5,
   "id": "ff8f25bf",
   "metadata": {
    "scrolled": true
   },
   "outputs": [
    {
     "data": {
      "text/plain": [
       "RangeIndex(start=0, stop=5, step=1)"
      ]
     },
     "execution_count": 5,
     "metadata": {},
     "output_type": "execute_result"
    }
   ],
   "source": [
    "# Dataframes have indices. These are like the indices of an array or list, e.g., 0, 1, 2, … -1. \n",
    "# The indices populate by default in the Python convention. They can be accessed from the 'index' attribute.\n",
    "df.index"
   ]
  },
  {
   "cell_type": "code",
   "execution_count": 6,
   "id": "a27c45ba",
   "metadata": {
    "scrolled": true
   },
   "outputs": [
    {
     "data": {
      "text/html": [
       "<div>\n",
       "<style scoped>\n",
       "    .dataframe tbody tr th:only-of-type {\n",
       "        vertical-align: middle;\n",
       "    }\n",
       "\n",
       "    .dataframe tbody tr th {\n",
       "        vertical-align: top;\n",
       "    }\n",
       "\n",
       "    .dataframe thead th {\n",
       "        text-align: right;\n",
       "    }\n",
       "</style>\n",
       "<table border=\"1\" class=\"dataframe\">\n",
       "  <thead>\n",
       "    <tr style=\"text-align: right;\">\n",
       "      <th></th>\n",
       "      <th>rainfall</th>\n",
       "      <th>runoff</th>\n",
       "    </tr>\n",
       "    <tr>\n",
       "      <th>time</th>\n",
       "      <th></th>\n",
       "      <th></th>\n",
       "    </tr>\n",
       "  </thead>\n",
       "  <tbody>\n",
       "    <tr>\n",
       "      <th>30</th>\n",
       "      <td>4</td>\n",
       "      <td>0.0</td>\n",
       "    </tr>\n",
       "    <tr>\n",
       "      <th>60</th>\n",
       "      <td>11</td>\n",
       "      <td>0.0</td>\n",
       "    </tr>\n",
       "    <tr>\n",
       "      <th>90</th>\n",
       "      <td>32</td>\n",
       "      <td>1.7</td>\n",
       "    </tr>\n",
       "    <tr>\n",
       "      <th>120</th>\n",
       "      <td>8</td>\n",
       "      <td>8.6</td>\n",
       "    </tr>\n",
       "    <tr>\n",
       "      <th>150</th>\n",
       "      <td>0</td>\n",
       "      <td>3.1</td>\n",
       "    </tr>\n",
       "  </tbody>\n",
       "</table>\n",
       "</div>"
      ],
      "text/plain": [
       "      rainfall  runoff\n",
       "time                  \n",
       "30           4     0.0\n",
       "60          11     0.0\n",
       "90          32     1.7\n",
       "120          8     8.6\n",
       "150          0     3.1"
      ]
     },
     "execution_count": 6,
     "metadata": {},
     "output_type": "execute_result"
    }
   ],
   "source": [
    "# Indices don't have to be integers. We can change them to something else. \n",
    "# A popular choice is some kind of measure of time, in which case we are working with time series data.\n",
    "df.set_index('time', inplace=True)\n",
    "df.head()"
   ]
  },
  {
   "cell_type": "code",
   "execution_count": 7,
   "id": "f2e1a206",
   "metadata": {
    "scrolled": true
   },
   "outputs": [
    {
     "name": "stdout",
     "output_type": "stream",
     "text": [
      "rainfall    4.0\n",
      "runoff      0.0\n",
      "Name: 30, dtype: float64\n",
      "32\n",
      "time\n",
      "120    8.6\n",
      "150    3.1\n",
      "Name: runoff, dtype: float64\n"
     ]
    }
   ],
   "source": [
    "# We can use indices to get access to parts of the dataframe.\n",
    "print(df.loc[30])\n",
    "print(df.loc[90,'rainfall'])\n",
    "print(df.loc[120:,'runoff'])"
   ]
  },
  {
   "cell_type": "markdown",
   "id": "099f5f47",
   "metadata": {},
   "source": [
    "### 1.3 Series"
   ]
  },
  {
   "cell_type": "code",
   "execution_count": 8,
   "id": "301dbc5a",
   "metadata": {
    "scrolled": true
   },
   "outputs": [
    {
     "name": "stdout",
     "output_type": "stream",
     "text": [
      "32\n",
      "count     5.0000\n",
      "mean     11.0000\n",
      "std      12.4499\n",
      "min       0.0000\n",
      "25%       4.0000\n",
      "50%       8.0000\n",
      "75%      11.0000\n",
      "max      32.0000\n",
      "Name: rainfall, dtype: float64\n",
      "[ 4 11 32  8  0]\n"
     ]
    }
   ],
   "source": [
    "# extract a series (one column) from the larger dataframe\n",
    "rain=df['rainfall']\n",
    "\n",
    "# summarize aspects of the series\n",
    "print(rain.max())             # or min, mean, std, sum\n",
    "print(rain.describe())\n",
    "print(rain.unique())          # sort_values, value_counts"
   ]
  },
  {
   "cell_type": "code",
   "execution_count": 9,
   "id": "32c6c7a0",
   "metadata": {
    "scrolled": true
   },
   "outputs": [
    {
     "data": {
      "image/png": "[encoded data removed]",
      "text/plain": [
       "<Figure size 640x480 with 1 Axes>"
      ]
     },
     "metadata": {},
     "output_type": "display_data"
    }
   ],
   "source": [
    "# With matplotlib, we can also generate plots\n",
    "rain.plot(kind='box')   # or line, box, pie…\n",
    "plt.show()"
   ]
  },
  {
   "cell_type": "markdown",
   "id": "d8a89947",
   "metadata": {},
   "source": [
    "### 1.4 Other operations"
   ]
  },
  {
   "cell_type": "code",
   "execution_count": 10,
   "id": "279bc708",
   "metadata": {
    "scrolled": true
   },
   "outputs": [
    {
     "data": {
      "text/html": [
       "<div>\n",
       "<style scoped>\n",
       "    .dataframe tbody tr th:only-of-type {\n",
       "        vertical-align: middle;\n",
       "    }\n",
       "\n",
       "    .dataframe tbody tr th {\n",
       "        vertical-align: top;\n",
       "    }\n",
       "\n",
       "    .dataframe thead th {\n",
       "        text-align: right;\n",
       "    }\n",
       "</style>\n",
       "<table border=\"1\" class=\"dataframe\">\n",
       "  <thead>\n",
       "    <tr style=\"text-align: right;\">\n",
       "      <th></th>\n",
       "      <th>rainfall</th>\n",
       "      <th>runoff</th>\n",
       "      <th>rnf_rnd</th>\n",
       "    </tr>\n",
       "    <tr>\n",
       "      <th>time</th>\n",
       "      <th></th>\n",
       "      <th></th>\n",
       "      <th></th>\n",
       "    </tr>\n",
       "  </thead>\n",
       "  <tbody>\n",
       "    <tr>\n",
       "      <th>30</th>\n",
       "      <td>4</td>\n",
       "      <td>0.0</td>\n",
       "      <td>0.0</td>\n",
       "    </tr>\n",
       "    <tr>\n",
       "      <th>60</th>\n",
       "      <td>11</td>\n",
       "      <td>0.0</td>\n",
       "      <td>0.0</td>\n",
       "    </tr>\n",
       "    <tr>\n",
       "      <th>90</th>\n",
       "      <td>32</td>\n",
       "      <td>1.7</td>\n",
       "      <td>2.0</td>\n",
       "    </tr>\n",
       "    <tr>\n",
       "      <th>120</th>\n",
       "      <td>8</td>\n",
       "      <td>8.6</td>\n",
       "      <td>9.0</td>\n",
       "    </tr>\n",
       "    <tr>\n",
       "      <th>150</th>\n",
       "      <td>0</td>\n",
       "      <td>3.1</td>\n",
       "      <td>3.0</td>\n",
       "    </tr>\n",
       "  </tbody>\n",
       "</table>\n",
       "</div>"
      ],
      "text/plain": [
       "      rainfall  runoff  rnf_rnd\n",
       "time                           \n",
       "30           4     0.0      0.0\n",
       "60          11     0.0      0.0\n",
       "90          32     1.7      2.0\n",
       "120          8     8.6      9.0\n",
       "150          0     3.1      3.0"
      ]
     },
     "execution_count": 10,
     "metadata": {},
     "output_type": "execute_result"
    }
   ],
   "source": [
    "# We'll use the dataframe as a variable on which to do calculations (like a spreadsheet). \n",
    "# For example, calculate new columns\n",
    "df['rnf_rnd']=df['runoff'].round()\n",
    "df.head()"
   ]
  },
  {
   "cell_type": "code",
   "execution_count": 11,
   "id": "7eb2d38f",
   "metadata": {
    "scrolled": true
   },
   "outputs": [
    {
     "data": {
      "text/plain": [
       "rainfall    32.0\n",
       "runoff       8.6\n",
       "rnf_rnd      9.0\n",
       "dtype: float64"
      ]
     },
     "execution_count": 11,
     "metadata": {},
     "output_type": "execute_result"
    }
   ],
   "source": [
    "# or calculate a summary row\n",
    "df.max()"
   ]
  },
  {
   "cell_type": "code",
   "execution_count": 12,
   "id": "f5bccc2a",
   "metadata": {
    "scrolled": true
   },
   "outputs": [
    {
     "data": {
      "text/html": [
       "<div>\n",
       "<style scoped>\n",
       "    .dataframe tbody tr th:only-of-type {\n",
       "        vertical-align: middle;\n",
       "    }\n",
       "\n",
       "    .dataframe tbody tr th {\n",
       "        vertical-align: top;\n",
       "    }\n",
       "\n",
       "    .dataframe thead th {\n",
       "        text-align: right;\n",
       "    }\n",
       "</style>\n",
       "<table border=\"1\" class=\"dataframe\">\n",
       "  <thead>\n",
       "    <tr style=\"text-align: right;\">\n",
       "      <th></th>\n",
       "      <th>time</th>\n",
       "      <th>rainfall</th>\n",
       "      <th>runoff</th>\n",
       "      <th>rnf_rnd</th>\n",
       "    </tr>\n",
       "  </thead>\n",
       "  <tbody>\n",
       "    <tr>\n",
       "      <th>0</th>\n",
       "      <td>30</td>\n",
       "      <td>4</td>\n",
       "      <td>0.0</td>\n",
       "      <td>0.0</td>\n",
       "    </tr>\n",
       "    <tr>\n",
       "      <th>1</th>\n",
       "      <td>60</td>\n",
       "      <td>11</td>\n",
       "      <td>0.0</td>\n",
       "      <td>0.0</td>\n",
       "    </tr>\n",
       "    <tr>\n",
       "      <th>2</th>\n",
       "      <td>90</td>\n",
       "      <td>32</td>\n",
       "      <td>1.7</td>\n",
       "      <td>2.0</td>\n",
       "    </tr>\n",
       "    <tr>\n",
       "      <th>3</th>\n",
       "      <td>120</td>\n",
       "      <td>8</td>\n",
       "      <td>8.6</td>\n",
       "      <td>9.0</td>\n",
       "    </tr>\n",
       "    <tr>\n",
       "      <th>4</th>\n",
       "      <td>150</td>\n",
       "      <td>0</td>\n",
       "      <td>3.1</td>\n",
       "      <td>3.0</td>\n",
       "    </tr>\n",
       "  </tbody>\n",
       "</table>\n",
       "</div>"
      ],
      "text/plain": [
       "   time  rainfall  runoff  rnf_rnd\n",
       "0    30         4     0.0      0.0\n",
       "1    60        11     0.0      0.0\n",
       "2    90        32     1.7      2.0\n",
       "3   120         8     8.6      9.0\n",
       "4   150         0     3.1      3.0"
      ]
     },
     "execution_count": 12,
     "metadata": {},
     "output_type": "execute_result"
    }
   ],
   "source": [
    "# We can write dataframes out to files, and read them back in again. We'll generally use CSV files.\n",
    "df.to_csv('rainfall.csv')\n",
    "df2=pd.read_csv('rainfall.csv')\n",
    "df2.head()"
   ]
  },
  {
   "cell_type": "markdown",
   "id": "dda4c8ac",
   "metadata": {},
   "source": [
    "### 1.5 Rolling window calculations"
   ]
  },
  {
   "cell_type": "code",
   "execution_count": 13,
   "id": "62bc023e",
   "metadata": {
    "scrolled": true
   },
   "outputs": [
    {
     "data": {
      "text/html": [
       "<div>\n",
       "<style scoped>\n",
       "    .dataframe tbody tr th:only-of-type {\n",
       "        vertical-align: middle;\n",
       "    }\n",
       "\n",
       "    .dataframe tbody tr th {\n",
       "        vertical-align: top;\n",
       "    }\n",
       "\n",
       "    .dataframe thead th {\n",
       "        text-align: right;\n",
       "    }\n",
       "</style>\n",
       "<table border=\"1\" class=\"dataframe\">\n",
       "  <thead>\n",
       "    <tr style=\"text-align: right;\">\n",
       "      <th></th>\n",
       "      <th>rainfall</th>\n",
       "      <th>runoff</th>\n",
       "      <th>rnf_rnd</th>\n",
       "      <th>avg_rain</th>\n",
       "    </tr>\n",
       "    <tr>\n",
       "      <th>time</th>\n",
       "      <th></th>\n",
       "      <th></th>\n",
       "      <th></th>\n",
       "      <th></th>\n",
       "    </tr>\n",
       "  </thead>\n",
       "  <tbody>\n",
       "    <tr>\n",
       "      <th>30</th>\n",
       "      <td>4</td>\n",
       "      <td>0.0</td>\n",
       "      <td>0.0</td>\n",
       "      <td>NaN</td>\n",
       "    </tr>\n",
       "    <tr>\n",
       "      <th>60</th>\n",
       "      <td>11</td>\n",
       "      <td>0.0</td>\n",
       "      <td>0.0</td>\n",
       "      <td>NaN</td>\n",
       "    </tr>\n",
       "    <tr>\n",
       "      <th>90</th>\n",
       "      <td>32</td>\n",
       "      <td>1.7</td>\n",
       "      <td>2.0</td>\n",
       "      <td>15.666667</td>\n",
       "    </tr>\n",
       "    <tr>\n",
       "      <th>120</th>\n",
       "      <td>8</td>\n",
       "      <td>8.6</td>\n",
       "      <td>9.0</td>\n",
       "      <td>17.000000</td>\n",
       "    </tr>\n",
       "    <tr>\n",
       "      <th>150</th>\n",
       "      <td>0</td>\n",
       "      <td>3.1</td>\n",
       "      <td>3.0</td>\n",
       "      <td>13.333333</td>\n",
       "    </tr>\n",
       "  </tbody>\n",
       "</table>\n",
       "</div>"
      ],
      "text/plain": [
       "      rainfall  runoff  rnf_rnd   avg_rain\n",
       "time                                      \n",
       "30           4     0.0      0.0        NaN\n",
       "60          11     0.0      0.0        NaN\n",
       "90          32     1.7      2.0  15.666667\n",
       "120          8     8.6      9.0  17.000000\n",
       "150          0     3.1      3.0  13.333333"
      ]
     },
     "execution_count": 13,
     "metadata": {},
     "output_type": "execute_result"
    }
   ],
   "source": [
    "# rolling window calculations are a useful series operation\n",
    "df['avg_rain']=df['rainfall'].rolling(3).mean()\n",
    "df.head()"
   ]
  },
  {
   "cell_type": "code",
   "execution_count": 14,
   "id": "1eb52e96",
   "metadata": {
    "scrolled": true
   },
   "outputs": [
    {
     "data": {
      "text/html": [
       "<div>\n",
       "<style scoped>\n",
       "    .dataframe tbody tr th:only-of-type {\n",
       "        vertical-align: middle;\n",
       "    }\n",
       "\n",
       "    .dataframe tbody tr th {\n",
       "        vertical-align: top;\n",
       "    }\n",
       "\n",
       "    .dataframe thead th {\n",
       "        text-align: right;\n",
       "    }\n",
       "</style>\n",
       "<table border=\"1\" class=\"dataframe\">\n",
       "  <thead>\n",
       "    <tr style=\"text-align: right;\">\n",
       "      <th></th>\n",
       "      <th>rainfall</th>\n",
       "      <th>runoff</th>\n",
       "      <th>rnf_rnd</th>\n",
       "      <th>avg_rain</th>\n",
       "      <th>ss_runoff2</th>\n",
       "    </tr>\n",
       "    <tr>\n",
       "      <th>time</th>\n",
       "      <th></th>\n",
       "      <th></th>\n",
       "      <th></th>\n",
       "      <th></th>\n",
       "      <th></th>\n",
       "    </tr>\n",
       "  </thead>\n",
       "  <tbody>\n",
       "    <tr>\n",
       "      <th>30</th>\n",
       "      <td>4</td>\n",
       "      <td>0.0</td>\n",
       "      <td>0.0</td>\n",
       "      <td>NaN</td>\n",
       "      <td>NaN</td>\n",
       "    </tr>\n",
       "    <tr>\n",
       "      <th>60</th>\n",
       "      <td>11</td>\n",
       "      <td>0.0</td>\n",
       "      <td>0.0</td>\n",
       "      <td>NaN</td>\n",
       "      <td>NaN</td>\n",
       "    </tr>\n",
       "    <tr>\n",
       "      <th>90</th>\n",
       "      <td>32</td>\n",
       "      <td>1.7</td>\n",
       "      <td>2.0</td>\n",
       "      <td>15.666667</td>\n",
       "      <td>2.89</td>\n",
       "    </tr>\n",
       "    <tr>\n",
       "      <th>120</th>\n",
       "      <td>8</td>\n",
       "      <td>8.6</td>\n",
       "      <td>9.0</td>\n",
       "      <td>17.000000</td>\n",
       "      <td>76.85</td>\n",
       "    </tr>\n",
       "    <tr>\n",
       "      <th>150</th>\n",
       "      <td>0</td>\n",
       "      <td>3.1</td>\n",
       "      <td>3.0</td>\n",
       "      <td>13.333333</td>\n",
       "      <td>86.46</td>\n",
       "    </tr>\n",
       "  </tbody>\n",
       "</table>\n",
       "</div>"
      ],
      "text/plain": [
       "      rainfall  runoff  rnf_rnd   avg_rain  ss_runoff2\n",
       "time                                                  \n",
       "30           4     0.0      0.0        NaN         NaN\n",
       "60          11     0.0      0.0        NaN         NaN\n",
       "90          32     1.7      2.0  15.666667        2.89\n",
       "120          8     8.6      9.0  17.000000       76.85\n",
       "150          0     3.1      3.0  13.333333       86.46"
      ]
     },
     "execution_count": 14,
     "metadata": {},
     "output_type": "execute_result"
    }
   ],
   "source": [
    "# rolling() can be chained with apply() to any function you can think of, e.g., sum of squares\n",
    "def sum_of_squares(x):\n",
    "    return np.sum(x**2)\n",
    "df['ss_runoff2']=df['runoff'].rolling(3).apply(sum_of_squares)\n",
    "df.head()"
   ]
  },
  {
   "cell_type": "markdown",
   "id": "59710d31",
   "metadata": {},
   "source": [
    "### 1.6 Grouping and sorting"
   ]
  },
  {
   "cell_type": "code",
   "execution_count": 15,
   "id": "36db057d",
   "metadata": {
    "scrolled": true
   },
   "outputs": [
    {
     "data": {
      "text/html": [
       "<div>\n",
       "<style scoped>\n",
       "    .dataframe tbody tr th:only-of-type {\n",
       "        vertical-align: middle;\n",
       "    }\n",
       "\n",
       "    .dataframe tbody tr th {\n",
       "        vertical-align: top;\n",
       "    }\n",
       "\n",
       "    .dataframe thead th {\n",
       "        text-align: right;\n",
       "    }\n",
       "</style>\n",
       "<table border=\"1\" class=\"dataframe\">\n",
       "  <thead>\n",
       "    <tr style=\"text-align: right;\">\n",
       "      <th></th>\n",
       "      <th>Type</th>\n",
       "      <th>Area</th>\n",
       "      <th>Cost</th>\n",
       "    </tr>\n",
       "    <tr>\n",
       "      <th>Building</th>\n",
       "      <th></th>\n",
       "      <th></th>\n",
       "      <th></th>\n",
       "    </tr>\n",
       "  </thead>\n",
       "  <tbody>\n",
       "    <tr>\n",
       "      <th>A</th>\n",
       "      <td>Commercial</td>\n",
       "      <td>120</td>\n",
       "      <td>180000</td>\n",
       "    </tr>\n",
       "    <tr>\n",
       "      <th>B</th>\n",
       "      <td>Industrial</td>\n",
       "      <td>250</td>\n",
       "      <td>220000</td>\n",
       "    </tr>\n",
       "    <tr>\n",
       "      <th>C</th>\n",
       "      <td>Residential</td>\n",
       "      <td>150</td>\n",
       "      <td>120000</td>\n",
       "    </tr>\n",
       "    <tr>\n",
       "      <th>D</th>\n",
       "      <td>Commercial</td>\n",
       "      <td>300</td>\n",
       "      <td>600000</td>\n",
       "    </tr>\n",
       "    <tr>\n",
       "      <th>E</th>\n",
       "      <td>Industrial</td>\n",
       "      <td>200</td>\n",
       "      <td>300000</td>\n",
       "    </tr>\n",
       "    <tr>\n",
       "      <th>F</th>\n",
       "      <td>Residential</td>\n",
       "      <td>100</td>\n",
       "      <td>150000</td>\n",
       "    </tr>\n",
       "    <tr>\n",
       "      <th>G</th>\n",
       "      <td>Commercial</td>\n",
       "      <td>350</td>\n",
       "      <td>400000</td>\n",
       "    </tr>\n",
       "    <tr>\n",
       "      <th>H</th>\n",
       "      <td>Industrial</td>\n",
       "      <td>180</td>\n",
       "      <td>250000</td>\n",
       "    </tr>\n",
       "    <tr>\n",
       "      <th>I</th>\n",
       "      <td>Residential</td>\n",
       "      <td>140</td>\n",
       "      <td>200000</td>\n",
       "    </tr>\n",
       "    <tr>\n",
       "      <th>J</th>\n",
       "      <td>Residential</td>\n",
       "      <td>400</td>\n",
       "      <td>500000</td>\n",
       "    </tr>\n",
       "  </tbody>\n",
       "</table>\n",
       "</div>"
      ],
      "text/plain": [
       "                 Type  Area    Cost\n",
       "Building                           \n",
       "A          Commercial   120  180000\n",
       "B          Industrial   250  220000\n",
       "C         Residential   150  120000\n",
       "D          Commercial   300  600000\n",
       "E          Industrial   200  300000\n",
       "F         Residential   100  150000\n",
       "G          Commercial   350  400000\n",
       "H          Industrial   180  250000\n",
       "I         Residential   140  200000\n",
       "J         Residential   400  500000"
      ]
     },
     "execution_count": 15,
     "metadata": {},
     "output_type": "execute_result"
    }
   ],
   "source": [
    "# let's look now at some categorical data in buildings.csv\n",
    "df=pd.read_csv('buildings.csv')\n",
    "df.set_index('Building', inplace=True)\n",
    "df"
   ]
  },
  {
   "cell_type": "code",
   "execution_count": 16,
   "id": "87d6cee4",
   "metadata": {
    "scrolled": true
   },
   "outputs": [
    {
     "data": {
      "text/html": [
       "<div>\n",
       "<style scoped>\n",
       "    .dataframe tbody tr th:only-of-type {\n",
       "        vertical-align: middle;\n",
       "    }\n",
       "\n",
       "    .dataframe tbody tr th {\n",
       "        vertical-align: top;\n",
       "    }\n",
       "\n",
       "    .dataframe thead th {\n",
       "        text-align: right;\n",
       "    }\n",
       "</style>\n",
       "<table border=\"1\" class=\"dataframe\">\n",
       "  <thead>\n",
       "    <tr style=\"text-align: right;\">\n",
       "      <th></th>\n",
       "      <th>Type</th>\n",
       "      <th>Area</th>\n",
       "      <th>Cost</th>\n",
       "    </tr>\n",
       "    <tr>\n",
       "      <th>Building</th>\n",
       "      <th></th>\n",
       "      <th></th>\n",
       "      <th></th>\n",
       "    </tr>\n",
       "  </thead>\n",
       "  <tbody>\n",
       "    <tr>\n",
       "      <th>D</th>\n",
       "      <td>Commercial</td>\n",
       "      <td>300</td>\n",
       "      <td>600000</td>\n",
       "    </tr>\n",
       "    <tr>\n",
       "      <th>J</th>\n",
       "      <td>Residential</td>\n",
       "      <td>400</td>\n",
       "      <td>500000</td>\n",
       "    </tr>\n",
       "    <tr>\n",
       "      <th>G</th>\n",
       "      <td>Commercial</td>\n",
       "      <td>350</td>\n",
       "      <td>400000</td>\n",
       "    </tr>\n",
       "    <tr>\n",
       "      <th>E</th>\n",
       "      <td>Industrial</td>\n",
       "      <td>200</td>\n",
       "      <td>300000</td>\n",
       "    </tr>\n",
       "    <tr>\n",
       "      <th>H</th>\n",
       "      <td>Industrial</td>\n",
       "      <td>180</td>\n",
       "      <td>250000</td>\n",
       "    </tr>\n",
       "    <tr>\n",
       "      <th>B</th>\n",
       "      <td>Industrial</td>\n",
       "      <td>250</td>\n",
       "      <td>220000</td>\n",
       "    </tr>\n",
       "    <tr>\n",
       "      <th>I</th>\n",
       "      <td>Residential</td>\n",
       "      <td>140</td>\n",
       "      <td>200000</td>\n",
       "    </tr>\n",
       "    <tr>\n",
       "      <th>A</th>\n",
       "      <td>Commercial</td>\n",
       "      <td>120</td>\n",
       "      <td>180000</td>\n",
       "    </tr>\n",
       "    <tr>\n",
       "      <th>F</th>\n",
       "      <td>Residential</td>\n",
       "      <td>100</td>\n",
       "      <td>150000</td>\n",
       "    </tr>\n",
       "    <tr>\n",
       "      <th>C</th>\n",
       "      <td>Residential</td>\n",
       "      <td>150</td>\n",
       "      <td>120000</td>\n",
       "    </tr>\n",
       "  </tbody>\n",
       "</table>\n",
       "</div>"
      ],
      "text/plain": [
       "                 Type  Area    Cost\n",
       "Building                           \n",
       "D          Commercial   300  600000\n",
       "J         Residential   400  500000\n",
       "G          Commercial   350  400000\n",
       "E          Industrial   200  300000\n",
       "H          Industrial   180  250000\n",
       "B          Industrial   250  220000\n",
       "I         Residential   140  200000\n",
       "A          Commercial   120  180000\n",
       "F         Residential   100  150000\n",
       "C         Residential   150  120000"
      ]
     },
     "execution_count": 16,
     "metadata": {},
     "output_type": "execute_result"
    }
   ],
   "source": [
    "# we can sort on a particular column\n",
    "df.sort_values('Cost', ascending=False)\n",
    "\n",
    "# (Note: sort_values() OUTPUTS a new sorted dataframe. It does not sort the original\n",
    "#  dataframe unless you set inplace=True)"
   ]
  },
  {
   "cell_type": "code",
   "execution_count": 17,
   "id": "deeb5079",
   "metadata": {
    "scrolled": true
   },
   "outputs": [
    {
     "data": {
      "text/html": [
       "<div>\n",
       "<style scoped>\n",
       "    .dataframe tbody tr th:only-of-type {\n",
       "        vertical-align: middle;\n",
       "    }\n",
       "\n",
       "    .dataframe tbody tr th {\n",
       "        vertical-align: top;\n",
       "    }\n",
       "\n",
       "    .dataframe thead th {\n",
       "        text-align: right;\n",
       "    }\n",
       "</style>\n",
       "<table border=\"1\" class=\"dataframe\">\n",
       "  <thead>\n",
       "    <tr style=\"text-align: right;\">\n",
       "      <th></th>\n",
       "      <th>Area</th>\n",
       "      <th>Cost</th>\n",
       "    </tr>\n",
       "    <tr>\n",
       "      <th>Type</th>\n",
       "      <th></th>\n",
       "      <th></th>\n",
       "    </tr>\n",
       "  </thead>\n",
       "  <tbody>\n",
       "    <tr>\n",
       "      <th>Commercial</th>\n",
       "      <td>300.0</td>\n",
       "      <td>400000.0</td>\n",
       "    </tr>\n",
       "    <tr>\n",
       "      <th>Industrial</th>\n",
       "      <td>200.0</td>\n",
       "      <td>250000.0</td>\n",
       "    </tr>\n",
       "    <tr>\n",
       "      <th>Residential</th>\n",
       "      <td>145.0</td>\n",
       "      <td>175000.0</td>\n",
       "    </tr>\n",
       "  </tbody>\n",
       "</table>\n",
       "</div>"
      ],
      "text/plain": [
       "              Area      Cost\n",
       "Type                        \n",
       "Commercial   300.0  400000.0\n",
       "Industrial   200.0  250000.0\n",
       "Residential  145.0  175000.0"
      ]
     },
     "execution_count": 17,
     "metadata": {},
     "output_type": "execute_result"
    }
   ],
   "source": [
    "# we can group according to a category and calculate summaries of those groups\n",
    "df.groupby('Type').median()"
   ]
  },
  {
   "cell_type": "markdown",
   "id": "c0953f97",
   "metadata": {},
   "source": [
    "### 1.7 Outliers"
   ]
  },
  {
   "cell_type": "code",
   "execution_count": 18,
   "id": "b1e43495",
   "metadata": {},
   "outputs": [
    {
     "data": {
      "image/png": "[encoded data removed]",
      "text/plain": [
       "<Figure size 640x480 with 1 Axes>"
      ]
     },
     "metadata": {},
     "output_type": "display_data"
    }
   ],
   "source": [
    "# we can use pandas to find and replace outliers, for example in the data below\n",
    "df=pd.DataFrame({'disp': [0.5, 0.6, 0.7, 0.8, 0.9, 1.0, 1.2, 10, 1.6, 1.8, 2.0, 2.2, 2.4, 2.6, 2.8], 'load': [10, 12, 14, 16, 18, 20, 22, 24, 26, 28, 30, 32, 34, 36, 38]}) \n",
    "plt.plot(df['load'], df['disp'], 'kx'); plt.show()"
   ]
  },
  {
   "cell_type": "code",
   "execution_count": 19,
   "id": "88c6e7e5",
   "metadata": {
    "scrolled": true
   },
   "outputs": [
    {
     "data": {
      "text/html": [
       "<div>\n",
       "<style scoped>\n",
       "    .dataframe tbody tr th:only-of-type {\n",
       "        vertical-align: middle;\n",
       "    }\n",
       "\n",
       "    .dataframe tbody tr th {\n",
       "        vertical-align: top;\n",
       "    }\n",
       "\n",
       "    .dataframe thead th {\n",
       "        text-align: right;\n",
       "    }\n",
       "</style>\n",
       "<table border=\"1\" class=\"dataframe\">\n",
       "  <thead>\n",
       "    <tr style=\"text-align: right;\">\n",
       "      <th></th>\n",
       "      <th>disp</th>\n",
       "      <th>load</th>\n",
       "      <th>zsc</th>\n",
       "    </tr>\n",
       "  </thead>\n",
       "  <tbody>\n",
       "    <tr>\n",
       "      <th>0</th>\n",
       "      <td>0.5</td>\n",
       "      <td>10</td>\n",
       "      <td>-0.677461</td>\n",
       "    </tr>\n",
       "    <tr>\n",
       "      <th>1</th>\n",
       "      <td>0.6</td>\n",
       "      <td>12</td>\n",
       "      <td>-0.634402</td>\n",
       "    </tr>\n",
       "    <tr>\n",
       "      <th>2</th>\n",
       "      <td>0.7</td>\n",
       "      <td>14</td>\n",
       "      <td>-0.591343</td>\n",
       "    </tr>\n",
       "    <tr>\n",
       "      <th>3</th>\n",
       "      <td>0.8</td>\n",
       "      <td>16</td>\n",
       "      <td>-0.548284</td>\n",
       "    </tr>\n",
       "    <tr>\n",
       "      <th>4</th>\n",
       "      <td>0.9</td>\n",
       "      <td>18</td>\n",
       "      <td>-0.505225</td>\n",
       "    </tr>\n",
       "    <tr>\n",
       "      <th>5</th>\n",
       "      <td>1.0</td>\n",
       "      <td>20</td>\n",
       "      <td>-0.462166</td>\n",
       "    </tr>\n",
       "    <tr>\n",
       "      <th>6</th>\n",
       "      <td>1.2</td>\n",
       "      <td>22</td>\n",
       "      <td>-0.376048</td>\n",
       "    </tr>\n",
       "    <tr>\n",
       "      <th>7</th>\n",
       "      <td>10.0</td>\n",
       "      <td>24</td>\n",
       "      <td>3.413142</td>\n",
       "    </tr>\n",
       "    <tr>\n",
       "      <th>8</th>\n",
       "      <td>1.6</td>\n",
       "      <td>26</td>\n",
       "      <td>-0.203812</td>\n",
       "    </tr>\n",
       "    <tr>\n",
       "      <th>9</th>\n",
       "      <td>1.8</td>\n",
       "      <td>28</td>\n",
       "      <td>-0.117695</td>\n",
       "    </tr>\n",
       "    <tr>\n",
       "      <th>10</th>\n",
       "      <td>2.0</td>\n",
       "      <td>30</td>\n",
       "      <td>-0.031577</td>\n",
       "    </tr>\n",
       "    <tr>\n",
       "      <th>11</th>\n",
       "      <td>2.2</td>\n",
       "      <td>32</td>\n",
       "      <td>0.054541</td>\n",
       "    </tr>\n",
       "    <tr>\n",
       "      <th>12</th>\n",
       "      <td>2.4</td>\n",
       "      <td>34</td>\n",
       "      <td>0.140659</td>\n",
       "    </tr>\n",
       "    <tr>\n",
       "      <th>13</th>\n",
       "      <td>2.6</td>\n",
       "      <td>36</td>\n",
       "      <td>0.226777</td>\n",
       "    </tr>\n",
       "    <tr>\n",
       "      <th>14</th>\n",
       "      <td>2.8</td>\n",
       "      <td>38</td>\n",
       "      <td>0.312895</td>\n",
       "    </tr>\n",
       "  </tbody>\n",
       "</table>\n",
       "</div>"
      ],
      "text/plain": [
       "    disp  load       zsc\n",
       "0    0.5    10 -0.677461\n",
       "1    0.6    12 -0.634402\n",
       "2    0.7    14 -0.591343\n",
       "3    0.8    16 -0.548284\n",
       "4    0.9    18 -0.505225\n",
       "5    1.0    20 -0.462166\n",
       "6    1.2    22 -0.376048\n",
       "7   10.0    24  3.413142\n",
       "8    1.6    26 -0.203812\n",
       "9    1.8    28 -0.117695\n",
       "10   2.0    30 -0.031577\n",
       "11   2.2    32  0.054541\n",
       "12   2.4    34  0.140659\n",
       "13   2.6    36  0.226777\n",
       "14   2.8    38  0.312895"
      ]
     },
     "execution_count": 19,
     "metadata": {},
     "output_type": "execute_result"
    }
   ],
   "source": [
    "# calculate a new column that is the z-score (deviation from the mean)\n",
    "df['zsc']=(df['disp']-df['disp'].mean())/df['disp'].std()\n",
    "df"
   ]
  },
  {
   "cell_type": "code",
   "execution_count": 20,
   "id": "7a1604e6",
   "metadata": {
    "scrolled": true
   },
   "outputs": [
    {
     "data": {
      "image/png": "[encoded data removed]",
      "text/plain": [
       "<Figure size 640x480 with 1 Axes>"
      ]
     },
     "metadata": {},
     "output_type": "display_data"
    }
   ],
   "source": [
    "# find outliers based on large absolute zscores\n",
    "no_outliers=df['disp'].where(df['zsc'].abs()<3)\n",
    "\n",
    "# replace the outliers with linear interpolation\n",
    "df['disp']=no_outliers.interpolate(method='linear') \n",
    "plt.plot(df['load'], df['disp'], 'kx'); plt.show()"
   ]
  },
  {
   "cell_type": "markdown",
   "id": "39056d96",
   "metadata": {},
   "source": [
    "## 2. Feature Engineering\n",
    "\n",
    "Work through the examples below in the lecture"
   ]
  },
  {
   "cell_type": "code",
   "execution_count": 21,
   "id": "784fa9c7",
   "metadata": {},
   "outputs": [],
   "source": [
    "import pandas as pd\n",
    "import numpy as np\n",
    "from matplotlib import pyplot as plt"
   ]
  },
  {
   "cell_type": "markdown",
   "id": "0660466c",
   "metadata": {},
   "source": [
    "### 2.1 Standardization and normalization\n",
    "\n",
    "Some ML algorithms struggle with data that have order of magnitude different scales and ranges. Z-score standardization transforms these to distributions with zero mean and unit standard deviation."
   ]
  },
  {
   "cell_type": "code",
   "execution_count": 22,
   "id": "6f66587d",
   "metadata": {},
   "outputs": [
    {
     "data": {
      "text/html": [
       "<div>\n",
       "<style scoped>\n",
       "    .dataframe tbody tr th:only-of-type {\n",
       "        vertical-align: middle;\n",
       "    }\n",
       "\n",
       "    .dataframe tbody tr th {\n",
       "        vertical-align: top;\n",
       "    }\n",
       "\n",
       "    .dataframe thead th {\n",
       "        text-align: right;\n",
       "    }\n",
       "</style>\n",
       "<table border=\"1\" class=\"dataframe\">\n",
       "  <thead>\n",
       "    <tr style=\"text-align: right;\">\n",
       "      <th></th>\n",
       "      <th>displacement</th>\n",
       "      <th>strain</th>\n",
       "    </tr>\n",
       "  </thead>\n",
       "  <tbody>\n",
       "    <tr>\n",
       "      <th>0</th>\n",
       "      <td>0.011</td>\n",
       "      <td>0.0004</td>\n",
       "    </tr>\n",
       "    <tr>\n",
       "      <th>1</th>\n",
       "      <td>0.012</td>\n",
       "      <td>0.0008</td>\n",
       "    </tr>\n",
       "    <tr>\n",
       "      <th>2</th>\n",
       "      <td>0.014</td>\n",
       "      <td>0.0032</td>\n",
       "    </tr>\n",
       "    <tr>\n",
       "      <th>3</th>\n",
       "      <td>0.022</td>\n",
       "      <td>0.0092</td>\n",
       "    </tr>\n",
       "    <tr>\n",
       "      <th>4</th>\n",
       "      <td>0.045</td>\n",
       "      <td>0.0312</td>\n",
       "    </tr>\n",
       "    <tr>\n",
       "      <th>5</th>\n",
       "      <td>0.123</td>\n",
       "      <td>0.0268</td>\n",
       "    </tr>\n",
       "    <tr>\n",
       "      <th>6</th>\n",
       "      <td>0.190</td>\n",
       "      <td>0.0164</td>\n",
       "    </tr>\n",
       "    <tr>\n",
       "      <th>7</th>\n",
       "      <td>0.231</td>\n",
       "      <td>0.0056</td>\n",
       "    </tr>\n",
       "    <tr>\n",
       "      <th>8</th>\n",
       "      <td>0.245</td>\n",
       "      <td>0.0016</td>\n",
       "    </tr>\n",
       "    <tr>\n",
       "      <th>9</th>\n",
       "      <td>0.249</td>\n",
       "      <td>0.0008</td>\n",
       "    </tr>\n",
       "  </tbody>\n",
       "</table>\n",
       "</div>"
      ],
      "text/plain": [
       "   displacement  strain\n",
       "0         0.011  0.0004\n",
       "1         0.012  0.0008\n",
       "2         0.014  0.0032\n",
       "3         0.022  0.0092\n",
       "4         0.045  0.0312\n",
       "5         0.123  0.0268\n",
       "6         0.190  0.0164\n",
       "7         0.231  0.0056\n",
       "8         0.245  0.0016\n",
       "9         0.249  0.0008"
      ]
     },
     "execution_count": 22,
     "metadata": {},
     "output_type": "execute_result"
    }
   ],
   "source": [
    "# Displacement data and calculated strain\n",
    "u = np.array([0.011, 0.012, 0.014, 0.022, 0.045, 0.123, 0.190, 0.231, 0.245, 0.249, 0.251])   # 2.5 m samples\n",
    "e = np.diff(u)/2.5  # strain\n",
    "df = pd.DataFrame({'displacement': u[:-1], 'strain': e})\n",
    "df"
   ]
  },
  {
   "cell_type": "code",
   "execution_count": 23,
   "id": "550776aa",
   "metadata": {},
   "outputs": [
    {
     "data": {
      "image/png": "[encoded data removed]",
      "text/plain": [
       "<Figure size 640x480 with 1 Axes>"
      ]
     },
     "metadata": {},
     "output_type": "display_data"
    }
   ],
   "source": [
    "# note how the blue displacement dominates the plot, whereas red strain is less distinctive\n",
    "# this is because of their different ranges of values\n",
    "x=np.arange(len(e))*2.5\n",
    "plt.plot(x, df['displacement'], 'b-', label='u')\n",
    "plt.plot(x, df['strain'], 'r-', label='e')\n",
    "plt.gca().set_xlabel('x'); plt.gca().set_ylabel('data')\n",
    "plt.legend()\n",
    "plt.show()"
   ]
  },
  {
   "cell_type": "code",
   "execution_count": 24,
   "id": "5b29dcb3",
   "metadata": {},
   "outputs": [
    {
     "data": {
      "text/html": [
       "<div>\n",
       "<style scoped>\n",
       "    .dataframe tbody tr th:only-of-type {\n",
       "        vertical-align: middle;\n",
       "    }\n",
       "\n",
       "    .dataframe tbody tr th {\n",
       "        vertical-align: top;\n",
       "    }\n",
       "\n",
       "    .dataframe thead th {\n",
       "        text-align: right;\n",
       "    }\n",
       "</style>\n",
       "<table border=\"1\" class=\"dataframe\">\n",
       "  <thead>\n",
       "    <tr style=\"text-align: right;\">\n",
       "      <th></th>\n",
       "      <th>scaled_displacement</th>\n",
       "      <th>scaled_strain</th>\n",
       "    </tr>\n",
       "  </thead>\n",
       "  <tbody>\n",
       "    <tr>\n",
       "      <th>0</th>\n",
       "      <td>-1.036312</td>\n",
       "      <td>-0.850802</td>\n",
       "    </tr>\n",
       "    <tr>\n",
       "      <th>1</th>\n",
       "      <td>-1.026270</td>\n",
       "      <td>-0.813811</td>\n",
       "    </tr>\n",
       "    <tr>\n",
       "      <th>2</th>\n",
       "      <td>-1.006186</td>\n",
       "      <td>-0.591862</td>\n",
       "    </tr>\n",
       "    <tr>\n",
       "      <th>3</th>\n",
       "      <td>-0.925852</td>\n",
       "      <td>-0.036991</td>\n",
       "    </tr>\n",
       "    <tr>\n",
       "      <th>4</th>\n",
       "      <td>-0.694891</td>\n",
       "      <td>1.997535</td>\n",
       "    </tr>\n",
       "    <tr>\n",
       "      <th>5</th>\n",
       "      <td>0.088368</td>\n",
       "      <td>1.590630</td>\n",
       "    </tr>\n",
       "    <tr>\n",
       "      <th>6</th>\n",
       "      <td>0.761167</td>\n",
       "      <td>0.628854</td>\n",
       "    </tr>\n",
       "    <tr>\n",
       "      <th>7</th>\n",
       "      <td>1.172880</td>\n",
       "      <td>-0.369914</td>\n",
       "    </tr>\n",
       "    <tr>\n",
       "      <th>8</th>\n",
       "      <td>1.313465</td>\n",
       "      <td>-0.739828</td>\n",
       "    </tr>\n",
       "    <tr>\n",
       "      <th>9</th>\n",
       "      <td>1.353632</td>\n",
       "      <td>-0.813811</td>\n",
       "    </tr>\n",
       "  </tbody>\n",
       "</table>\n",
       "</div>"
      ],
      "text/plain": [
       "   scaled_displacement  scaled_strain\n",
       "0            -1.036312      -0.850802\n",
       "1            -1.026270      -0.813811\n",
       "2            -1.006186      -0.591862\n",
       "3            -0.925852      -0.036991\n",
       "4            -0.694891       1.997535\n",
       "5             0.088368       1.590630\n",
       "6             0.761167       0.628854\n",
       "7             1.172880      -0.369914\n",
       "8             1.313465      -0.739828\n",
       "9             1.353632      -0.813811"
      ]
     },
     "execution_count": 24,
     "metadata": {},
     "output_type": "execute_result"
    }
   ],
   "source": [
    "# Initialize the StandardScaler\n",
    "from sklearn.preprocessing import StandardScaler\n",
    "scaler = StandardScaler()\n",
    "\n",
    "# scale the data to a unit normal distribution\n",
    "scaled_data = scaler.fit_transform(df[['displacement', 'strain']])\n",
    "scaled_df = pd.DataFrame(scaled_data, columns=['scaled_displacement', 'scaled_strain'])\n",
    "scaled_df"
   ]
  },
  {
   "cell_type": "code",
   "execution_count": 25,
   "id": "63b789c1",
   "metadata": {},
   "outputs": [
    {
     "data": {
      "image/png": "[encoded data removed]",
      "text/plain": [
       "<Figure size 640x480 with 1 Axes>"
      ]
     },
     "metadata": {},
     "output_type": "display_data"
    }
   ],
   "source": [
    "# see how shapes of the data are preserved, but they have been rescaled to have similar range and centre\n",
    "plt.plot(x, scaled_df['scaled_displacement'], 'b-', label='u')\n",
    "plt.plot(x, scaled_df['scaled_strain'], 'r-', label='e')\n",
    "plt.gca().set_xlabel('x'); plt.gca().set_ylabel('scaled data')\n",
    "plt.legend()\n",
    "plt.show()"
   ]
  },
  {
   "cell_type": "markdown",
   "id": "1c38855f",
   "metadata": {},
   "source": [
    "### 2.2 One-hot encoding\n",
    "\n",
    "Convert categorical data into binary input features, e.g., commercial/not commercial, residential/not residential. This feature is easier for some ML algorithms to work with."
   ]
  },
  {
   "cell_type": "code",
   "execution_count": 26,
   "id": "7ca18c4d",
   "metadata": {},
   "outputs": [
    {
     "data": {
      "text/html": [
       "<div>\n",
       "<style scoped>\n",
       "    .dataframe tbody tr th:only-of-type {\n",
       "        vertical-align: middle;\n",
       "    }\n",
       "\n",
       "    .dataframe tbody tr th {\n",
       "        vertical-align: top;\n",
       "    }\n",
       "\n",
       "    .dataframe thead th {\n",
       "        text-align: right;\n",
       "    }\n",
       "</style>\n",
       "<table border=\"1\" class=\"dataframe\">\n",
       "  <thead>\n",
       "    <tr style=\"text-align: right;\">\n",
       "      <th></th>\n",
       "      <th>Type</th>\n",
       "    </tr>\n",
       "  </thead>\n",
       "  <tbody>\n",
       "    <tr>\n",
       "      <th>0</th>\n",
       "      <td>Resid</td>\n",
       "    </tr>\n",
       "    <tr>\n",
       "      <th>1</th>\n",
       "      <td>Comm</td>\n",
       "    </tr>\n",
       "    <tr>\n",
       "      <th>2</th>\n",
       "      <td>Indus</td>\n",
       "    </tr>\n",
       "    <tr>\n",
       "      <th>3</th>\n",
       "      <td>Resid</td>\n",
       "    </tr>\n",
       "    <tr>\n",
       "      <th>4</th>\n",
       "      <td>Indus</td>\n",
       "    </tr>\n",
       "    <tr>\n",
       "      <th>5</th>\n",
       "      <td>Comm</td>\n",
       "    </tr>\n",
       "  </tbody>\n",
       "</table>\n",
       "</div>"
      ],
      "text/plain": [
       "    Type\n",
       "0  Resid\n",
       "1   Comm\n",
       "2  Indus\n",
       "3  Resid\n",
       "4  Indus\n",
       "5   Comm"
      ]
     },
     "execution_count": 26,
     "metadata": {},
     "output_type": "execute_result"
    }
   ],
   "source": [
    "from sklearn.preprocessing import OneHotEncoder\n",
    "df = pd.DataFrame({'Type': ['Resid', 'Comm', 'Indus', 'Resid', 'Indus', 'Comm']})\n",
    "df"
   ]
  },
  {
   "cell_type": "code",
   "execution_count": 28,
   "id": "152aa4c6",
   "metadata": {},
   "outputs": [
    {
     "data": {
      "text/plain": [
       "array([[0., 0., 1.],\n",
       "       [1., 0., 0.],\n",
       "       [0., 1., 0.],\n",
       "       [0., 0., 1.],\n",
       "       [0., 1., 0.],\n",
       "       [1., 0., 0.]])"
      ]
     },
     "execution_count": 28,
     "metadata": {},
     "output_type": "execute_result"
    }
   ],
   "source": [
    "# Initialize OneHotEncoder\n",
    "encoder = OneHotEncoder(sparse_output=False)\n",
    "# Fit and transform the data\n",
    "encoded_data = encoder.fit_transform(df[['Type']])\n",
    "encoded_data"
   ]
  },
  {
   "cell_type": "code",
   "execution_count": 30,
   "id": "ed323a88",
   "metadata": {},
   "outputs": [
    {
     "data": {
      "text/html": [
       "<div>\n",
       "<style scoped>\n",
       "    .dataframe tbody tr th:only-of-type {\n",
       "        vertical-align: middle;\n",
       "    }\n",
       "\n",
       "    .dataframe tbody tr th {\n",
       "        vertical-align: top;\n",
       "    }\n",
       "\n",
       "    .dataframe thead th {\n",
       "        text-align: right;\n",
       "    }\n",
       "</style>\n",
       "<table border=\"1\" class=\"dataframe\">\n",
       "  <thead>\n",
       "    <tr style=\"text-align: right;\">\n",
       "      <th></th>\n",
       "      <th>Type</th>\n",
       "      <th>Type_Comm</th>\n",
       "      <th>Type_Indus</th>\n",
       "      <th>Type_Resid</th>\n",
       "    </tr>\n",
       "  </thead>\n",
       "  <tbody>\n",
       "    <tr>\n",
       "      <th>0</th>\n",
       "      <td>Resid</td>\n",
       "      <td>0.0</td>\n",
       "      <td>0.0</td>\n",
       "      <td>1.0</td>\n",
       "    </tr>\n",
       "    <tr>\n",
       "      <th>1</th>\n",
       "      <td>Comm</td>\n",
       "      <td>1.0</td>\n",
       "      <td>0.0</td>\n",
       "      <td>0.0</td>\n",
       "    </tr>\n",
       "    <tr>\n",
       "      <th>2</th>\n",
       "      <td>Indus</td>\n",
       "      <td>0.0</td>\n",
       "      <td>1.0</td>\n",
       "      <td>0.0</td>\n",
       "    </tr>\n",
       "    <tr>\n",
       "      <th>3</th>\n",
       "      <td>Resid</td>\n",
       "      <td>0.0</td>\n",
       "      <td>0.0</td>\n",
       "      <td>1.0</td>\n",
       "    </tr>\n",
       "    <tr>\n",
       "      <th>4</th>\n",
       "      <td>Indus</td>\n",
       "      <td>0.0</td>\n",
       "      <td>1.0</td>\n",
       "      <td>0.0</td>\n",
       "    </tr>\n",
       "    <tr>\n",
       "      <th>5</th>\n",
       "      <td>Comm</td>\n",
       "      <td>1.0</td>\n",
       "      <td>0.0</td>\n",
       "      <td>0.0</td>\n",
       "    </tr>\n",
       "  </tbody>\n",
       "</table>\n",
       "</div>"
      ],
      "text/plain": [
       "    Type  Type_Comm  Type_Indus  Type_Resid\n",
       "0  Resid        0.0         0.0         1.0\n",
       "1   Comm        1.0         0.0         0.0\n",
       "2  Indus        0.0         1.0         0.0\n",
       "3  Resid        0.0         0.0         1.0\n",
       "4  Indus        0.0         1.0         0.0\n",
       "5   Comm        1.0         0.0         0.0"
      ]
     },
     "execution_count": 30,
     "metadata": {},
     "output_type": "execute_result"
    }
   ],
   "source": [
    "# Create a new dataframe with the encoded data\n",
    "encoded_df = pd.DataFrame(encoded_data, columns=encoder.get_feature_names_out(['Type']))\n",
    "# Concatenate the original and encoded dataframes\n",
    "result_df = pd.concat([df, encoded_df], axis=1)\n",
    "result_df"
   ]
  },
  {
   "cell_type": "markdown",
   "id": "2b00dfa9",
   "metadata": {},
   "source": [
    "### 2.3 Rolling window features"
   ]
  },
  {
   "cell_type": "markdown",
   "id": "f0b9e6a1",
   "metadata": {},
   "source": [
    "These are constructed from **WINDOWS** that slide over time series data. A new feature value is calculated by applying some **FUNCTION** to the data contained within the window. When the window moves on, the function is reapplied and a new feature value is calculated. \n",
    "\n",
    "These features highlight certain characteristics of the data by supressing noise components not related to that characteristic.\n",
    "\n",
    "In this example, we have a time series of traffic density at an intersection over two years. The change over time is complex, with a strong first-order trend, overprinted by second-order patterns."
   ]
  },
  {
   "cell_type": "code",
   "execution_count": 31,
   "id": "8911ed0c",
   "metadata": {},
   "outputs": [
    {
     "data": {
      "image/png": "[encoded data removed]",
      "text/plain": [
       "<Figure size 1600x400 with 5 Axes>"
      ]
     },
     "metadata": {},
     "output_type": "display_data"
    }
   ],
   "source": [
    "import pandas as pd\n",
    "import numpy as np\n",
    "import matplotlib.pyplot as plt\n",
    "\n",
    "# read in some data\n",
    "df=pd.read_csv('traffic_data.csv',parse_dates=[0]).set_index('time')\n",
    "ts=df['density']\n",
    "\n",
    "# plot the raw data\n",
    "f,(ax1,ax2,ax3)=plt.subplots(1,3, figsize=(16,4))\n",
    "for ax in [ax1,ax2,ax3]:\n",
    "    ts.plot(style='k-', lw=0.5, ax=ax, label='raw data')\n",
    "\n",
    "# Calculate a 150-day rolling mean\n",
    "Tm=150      \n",
    "df['density_mean']=ts.rolling(window=Tm).mean()\n",
    "df['density_mean'].plot(style='b',ax=ax1)\n",
    "\n",
    "# Calculate a 30-day rolling standard deviation\n",
    "Tsd=30\n",
    "df['density_std']=ts.rolling(window=Tsd).std()\n",
    "df['density_std'].plot(style='b', ax=ax2.twinx())\n",
    "\n",
    "# Calculate a rolling X-day harmonic \n",
    "def rolling_fft(x, ti):\n",
    "    fft = np.fft.fft(x)/len(x)\n",
    "    psd = np.abs(fft)**2/2\n",
    "    period_of_interest = ti\n",
    "    ts=1./(np.fft.fftfreq(len(x)))\n",
    "    i=np.argmin(abs(ts-ti))\n",
    "    return psd[i]\n",
    "\n",
    "Ti=30   # harmonic (days)\n",
    "ts.rolling(window=120).apply(rolling_fft, args=(Ti,)).plot(style='b', ax=ax3.twinx())\n",
    "\n",
    "for ax in [ax1,ax2,ax3]:\n",
    "    ax.set_ylabel('traffic density')\n",
    "ax1.set_title(f'feature 1: {Tm:d}-day average')\n",
    "ax2.set_title(f'feature 2: {Tsd:d}-day std. dev.')\n",
    "ax3.set_title(f'feature 3: {Ti:d}-day harmonic')\n",
    "plt.tight_layout()\n",
    "plt.show()"
   ]
  },
  {
   "cell_type": "code",
   "execution_count": 32,
   "id": "ab16d90d",
   "metadata": {},
   "outputs": [
    {
     "data": {
      "application/vnd.jupyter.widget-view+json": {
       "model_id": "e22a9e05ade94605b479530d5dd104a7",
       "version_major": 2,
       "version_minor": 0
      },
      "text/plain": [
       "VBox(children=(HBox(children=(IntSlider(value=150, continuous_update=False, description='$T_m$', max=240, min=…"
      ]
     },
     "execution_count": 32,
     "metadata": {},
     "output_type": "execute_result"
    }
   ],
   "source": [
    "from encn404 import rolling_window\n",
    "rolling_window()\n",
    "# run this cell and answer the questions below:\n",
    "# For feature 1, slide the WINDOW length from 150 to 20 days. How does the feature change?\n",
    "# Set the SAME window length for features 1 and 2. How are they different?\n",
    "# For feature 3, what information is it extracting?\n",
    "# Which feature extracts the first-order trend?\n",
    "# Which feature identifies second-order characteristics that overprint the trend?\n",
    "# which of these first- or second-order characteristics are signal and which are noise?"
   ]
  },
  {
   "cell_type": "markdown",
   "id": "a7042b48",
   "metadata": {},
   "source": [
    "### 2.4 Interaction features"
   ]
  },
  {
   "cell_type": "markdown",
   "id": "d0ffbf1a",
   "metadata": {},
   "source": [
    "We seek to **combine** different types of data together into new features that may better capture characteristics of the covarying data. For example, the product of two data types. Or a ratio.\n",
    "\n",
    "In this example, we will suppose that we have strength measurements for concrete samples with different amounts of water and cement, and that have been aged for different lengths of time. Data columns are then Cement (C), Water (W) and Age (A), whereas interaction features could be **ratios** or **products**, e.g., C/W (cement-water ratio), C\\*A (cement-age product)."
   ]
  },
  {
   "cell_type": "code",
   "execution_count": 33,
   "id": "abdf020d",
   "metadata": {},
   "outputs": [
    {
     "name": "stdout",
     "output_type": "stream",
     "text": [
      "       Cement       Water         Age      Strength\n",
      "0  275.819461  154.659010  229.311383  2.440315e+06\n",
      "1  377.110854  200.097807   45.977792  1.949551e+06\n",
      "2  389.277670  200.937993   89.879993  2.116471e+06\n",
      "3  332.410077  197.915921  329.555620  2.640793e+06\n",
      "4  190.700876  224.246703  254.312489  1.472993e+06\n"
     ]
    },
    {
     "data": {
      "image/png": "[encoded data removed]",
      "text/plain": [
       "<Figure size 1400x400 with 3 Axes>"
      ]
     },
     "metadata": {},
     "output_type": "display_data"
    }
   ],
   "source": [
    "# load in Cement (C), Water (W) and Age (A) data for concrete\n",
    "df=pd.read_csv('concrete_data.csv')\n",
    "print(df.head())\n",
    "\n",
    "# the Strength data will be our 'label' (more on this later)\n",
    "y=df['Strength']\n",
    "df=df.drop(columns=['Strength'])\n",
    "\n",
    "# plot correlations between the raw data and strength\n",
    "f,axs=plt.subplots(1,3,figsize=(14,4))\n",
    "for ax,col in zip(axs, df.columns[:3]):\n",
    "    ax.plot(df[col], y,'bo',alpha=0.7)\n",
    "    ax.set_xlabel(col)\n",
    "axs[0].set_ylabel('Strength')\n",
    "plt.tight_layout()\n",
    "plt.show()"
   ]
  },
  {
   "cell_type": "code",
   "execution_count": 35,
   "id": "e1332ddc",
   "metadata": {},
   "outputs": [
    {
     "data": {
      "text/html": [
       "<div>\n",
       "<style scoped>\n",
       "    .dataframe tbody tr th:only-of-type {\n",
       "        vertical-align: middle;\n",
       "    }\n",
       "\n",
       "    .dataframe tbody tr th {\n",
       "        vertical-align: top;\n",
       "    }\n",
       "\n",
       "    .dataframe thead th {\n",
       "        text-align: right;\n",
       "    }\n",
       "</style>\n",
       "<table border=\"1\" class=\"dataframe\">\n",
       "  <thead>\n",
       "    <tr style=\"text-align: right;\">\n",
       "      <th></th>\n",
       "      <th>1</th>\n",
       "      <th>Cement</th>\n",
       "      <th>Water</th>\n",
       "      <th>Age</th>\n",
       "      <th>Cement Water</th>\n",
       "      <th>Cement Age</th>\n",
       "      <th>Water Age</th>\n",
       "    </tr>\n",
       "  </thead>\n",
       "  <tbody>\n",
       "    <tr>\n",
       "      <th>0</th>\n",
       "      <td>1.0</td>\n",
       "      <td>275.819461</td>\n",
       "      <td>154.659010</td>\n",
       "      <td>229.311383</td>\n",
       "      <td>42657.964636</td>\n",
       "      <td>63248.541826</td>\n",
       "      <td>35465.071340</td>\n",
       "    </tr>\n",
       "    <tr>\n",
       "      <th>1</th>\n",
       "      <td>1.0</td>\n",
       "      <td>377.110854</td>\n",
       "      <td>200.097807</td>\n",
       "      <td>45.977792</td>\n",
       "      <td>75459.054908</td>\n",
       "      <td>17338.724562</td>\n",
       "      <td>9200.055420</td>\n",
       "    </tr>\n",
       "    <tr>\n",
       "      <th>2</th>\n",
       "      <td>1.0</td>\n",
       "      <td>389.277670</td>\n",
       "      <td>200.937993</td>\n",
       "      <td>89.879993</td>\n",
       "      <td>78220.673672</td>\n",
       "      <td>34988.274257</td>\n",
       "      <td>18060.305379</td>\n",
       "    </tr>\n",
       "    <tr>\n",
       "      <th>3</th>\n",
       "      <td>1.0</td>\n",
       "      <td>332.410077</td>\n",
       "      <td>197.915921</td>\n",
       "      <td>329.555620</td>\n",
       "      <td>65789.246757</td>\n",
       "      <td>109547.609191</td>\n",
       "      <td>65224.304259</td>\n",
       "    </tr>\n",
       "    <tr>\n",
       "      <th>4</th>\n",
       "      <td>1.0</td>\n",
       "      <td>190.700876</td>\n",
       "      <td>224.246703</td>\n",
       "      <td>254.312489</td>\n",
       "      <td>42764.042869</td>\n",
       "      <td>48497.614449</td>\n",
       "      <td>57028.737223</td>\n",
       "    </tr>\n",
       "  </tbody>\n",
       "</table>\n",
       "</div>"
      ],
      "text/plain": [
       "     1      Cement       Water         Age  Cement Water     Cement Age  \\\n",
       "0  1.0  275.819461  154.659010  229.311383  42657.964636   63248.541826   \n",
       "1  1.0  377.110854  200.097807   45.977792  75459.054908   17338.724562   \n",
       "2  1.0  389.277670  200.937993   89.879993  78220.673672   34988.274257   \n",
       "3  1.0  332.410077  197.915921  329.555620  65789.246757  109547.609191   \n",
       "4  1.0  190.700876  224.246703  254.312489  42764.042869   48497.614449   \n",
       "\n",
       "      Water Age  \n",
       "0  35465.071340  \n",
       "1   9200.055420  \n",
       "2  18060.305379  \n",
       "3  65224.304259  \n",
       "4  57028.737223  "
      ]
     },
     "execution_count": 35,
     "metadata": {},
     "output_type": "execute_result"
    }
   ],
   "source": [
    "from sklearn.preprocessing import PolynomialFeatures\n",
    "\n",
    "# Create Polynomial Interaction Features with degree 2, e.g., C*A, W*C\n",
    "poly = PolynomialFeatures(degree=2, interaction_only=True)\n",
    "int_features = poly.fit_transform(df)\n",
    "\n",
    "# get feature names and create a dataframe\n",
    "feature_names = poly.get_feature_names_out(df.columns)\n",
    "df_int = pd.DataFrame(int_features, columns=feature_names)\n",
    "df_int.head()"
   ]
  },
  {
   "cell_type": "code",
   "execution_count": 36,
   "id": "ff378325",
   "metadata": {},
   "outputs": [
    {
     "data": {
      "image/png": "[encoded data removed]",
      "text/plain": [
       "<Figure size 1600x300 with 6 Axes>"
      ]
     },
     "metadata": {},
     "output_type": "display_data"
    }
   ],
   "source": [
    "# plot the new interaction features and look for correlations\n",
    "f,axs=plt.subplots(1,6,figsize=(16,3))\n",
    "for ax,col in zip(axs, df_int.columns[-6:]):\n",
    "    ax.plot(df_int[col], y, 'bo', alpha=0.7)\n",
    "    ax.set_xlabel(col)\n",
    "axs[0].set_ylabel('Strength')\n",
    "plt.show()"
   ]
  },
  {
   "cell_type": "code",
   "execution_count": 37,
   "id": "69898383",
   "metadata": {},
   "outputs": [
    {
     "ename": "AttributeError",
     "evalue": "'PolynomialFeatures' object has no attribute 'get_feature_names'",
     "output_type": "error",
     "traceback": [
      "\u001b[1;31m---------------------------------------------------------------------------\u001b[0m",
      "\u001b[1;31mAttributeError\u001b[0m                            Traceback (most recent call last)",
      "Cell \u001b[1;32mIn[37], line 8\u001b[0m\n\u001b[0;32m      6\u001b[0m poly \u001b[38;5;241m=\u001b[39m PolynomialFeatures(degree\u001b[38;5;241m=\u001b[39m\u001b[38;5;241m2\u001b[39m, interaction_only\u001b[38;5;241m=\u001b[39m\u001b[38;5;28;01mTrue\u001b[39;00m)\n\u001b[0;32m      7\u001b[0m int_features \u001b[38;5;241m=\u001b[39m poly\u001b[38;5;241m.\u001b[39mfit_transform(df3)\n\u001b[1;32m----> 8\u001b[0m feature_names \u001b[38;5;241m=\u001b[39m poly\u001b[38;5;241m.\u001b[39mget_feature_names(df3\u001b[38;5;241m.\u001b[39mcolumns)\n\u001b[0;32m      9\u001b[0m df_int2 \u001b[38;5;241m=\u001b[39m pd\u001b[38;5;241m.\u001b[39mDataFrame(int_features, columns\u001b[38;5;241m=\u001b[39mfeature_names)\n\u001b[0;32m     10\u001b[0m df_int2\u001b[38;5;241m.\u001b[39mhead()\n",
      "\u001b[1;31mAttributeError\u001b[0m: 'PolynomialFeatures' object has no attribute 'get_feature_names'"
     ]
    }
   ],
   "source": [
    "# extend the dataframe with reciprocals, i.e., 1/A, 1/C, 1/W\n",
    "df2 = pd.DataFrame(1./df.values, columns=[f'{col}^-1' for col in df.columns])\n",
    "df3 = pd.concat([df,df2], axis=1)\n",
    "\n",
    "# interaction features now also include ratios, e.g., C/W\n",
    "poly = PolynomialFeatures(degree=2, interaction_only=True)\n",
    "int_features = poly.fit_transform(df3)\n",
    "feature_names = poly.get_feature_names(df3.columns)\n",
    "df_int2 = pd.DataFrame(int_features, columns=feature_names)\n",
    "df_int2.head()"
   ]
  },
  {
   "cell_type": "code",
   "execution_count": null,
   "id": "7fdda07c",
   "metadata": {},
   "outputs": [],
   "source": [
    "# plot the new interaction features and look for correlations\n",
    "f,axs=plt.subplots(4,5,figsize=(16,10))\n",
    "axs=[item for sublist in axs for item in sublist]\n",
    "for ax,col in zip(axs, df_int2.columns[-20:]):\n",
    "    ax.plot(df_int2[col], y,'bo',alpha=0.7,label=col)\n",
    "    ax.legend()\n",
    "plt.tight_layout()\n",
    "plt.show()"
   ]
  },
  {
   "cell_type": "markdown",
   "id": "36a672c4",
   "metadata": {},
   "source": [
    "### 2.5 Principal Component Analysis (PCA)"
   ]
  },
  {
   "cell_type": "markdown",
   "id": "e477723a",
   "metadata": {},
   "source": [
    "PCA is a statistical procedure that helps us work with **correlated** data or features. It converts variables that appear related to each other into new sets of uncorrelated variables called principal components. These components capture the **largest directions of variation** within the data."
   ]
  },
  {
   "cell_type": "code",
   "execution_count": null,
   "id": "5cb2e24b",
   "metadata": {},
   "outputs": [],
   "source": [
    "# load in Cement (C), Water (W) and Age (A) data for concrete\n",
    "df=pd.read_csv('concrete_data.csv')\n",
    "print(df.head())\n",
    "\n",
    "# the Strength data will be our 'label' (more on this later)\n",
    "y=df['Strength']\n",
    "df=df.drop(columns=['Strength'])"
   ]
  },
  {
   "cell_type": "code",
   "execution_count": null,
   "id": "6c757d1f",
   "metadata": {},
   "outputs": [],
   "source": [
    "import pandas as pd\n",
    "from sklearn.decomposition import PCA\n",
    "from sklearn.preprocessing import StandardScaler\n",
    "\n",
    "# Separate predictors (X) and label (y)\n",
    "X = df\n",
    "\n",
    "# Standardize the predictors so they contribute equally\n",
    "scaler = StandardScaler()\n",
    "X_scaled = scaler.fit_transform(X)\n",
    "\n",
    "# Perform PCA\n",
    "pca = PCA(n_components=3)  # Reduce to 3 components\n",
    "X_pca = pca.fit_transform(X_scaled)\n",
    "weights = pca.components_\n",
    "\n",
    "# Create a new dataframe with the PCA components\n",
    "df_pca = pd.DataFrame(X_pca, columns=['PC1', 'PC2', 'PC3'])\n",
    "df_pca = pd.concat([df,df_pca], axis=1)\n",
    "\n",
    "# Print the principal component weights and variance\n",
    "for i in range(3):\n",
    "    w=weights[i,:]\n",
    "    s=f'PC{i+1:d}='\n",
    "    for j,c in enumerate(X.columns):\n",
    "        s+=f'{w[j]:3.2f}*{c}+'\n",
    "    print(s[:-1]+f',\\tExplained variance={int(pca.explained_variance_ratio_[i]*100):d}%')\n",
    "\n",
    "# plot the new principal components and look for correlations\n",
    "f,axs=plt.subplots(1,6,figsize=(16,3))\n",
    "for ax,col in zip(axs, df_pca.columns):\n",
    "    ax.plot(df_pca[col], y, 'bo', alpha=0.7)\n",
    "    ax.set_xlabel(col)\n",
    "axs[0].set_ylabel('Strength')\n",
    "plt.tight_layout()\n",
    "plt.show()"
   ]
  },
  {
   "cell_type": "markdown",
   "id": "b0a1cd2e",
   "metadata": {},
   "source": [
    "## 3. Unsupervised Learning and Clustering"
   ]
  },
  {
   "cell_type": "markdown",
   "id": "95ddc06d",
   "metadata": {},
   "source": [
    "### 3.1 Clustering\n"
   ]
  },
  {
   "cell_type": "code",
   "execution_count": null,
   "id": "fab38e04",
   "metadata": {},
   "outputs": [],
   "source": [
    "from encn404 import clustering\n",
    "clustering()\n",
    "# run this cell and answer the questions below:\n",
    "# in step 0, how should we guess initially at the centroids?\n",
    "# in step 1, how is cluster membership determined?\n",
    "# in step 2, how is the new centroid position calculated?\n",
    "# in step 3, how and why does cluster membership change?\n",
    "# when does the algorithm stop?"
   ]
  },
  {
   "cell_type": "markdown",
   "id": "86f35551",
   "metadata": {},
   "source": [
    "### 3.2 K-Means"
   ]
  },
  {
   "cell_type": "code",
   "execution_count": null,
   "id": "d4321ab2",
   "metadata": {},
   "outputs": [],
   "source": [
    "from encn404 import kmeans\n",
    "kmeans()\n",
    "# run this cell and answer the questions below:\n",
    "# In step 0, how many clusters are there? How do you \"know\" this answer?\n",
    "# In step 1, there are two clusters. Which one has the better centroid? \n",
    "# Does the centroid location, relative to the data, tell us about how good the data are?\n",
    "# In step 2, we have selected the right number of clusters. But how would an algorithm know this?\n",
    "# What is the effect of increasing cluster number beyond what is required by the data?\n",
    "# How is the Sihouette Score calculated? Ask an AI.\n",
    "# How can we use the Silhouette Score to determine what the best number of clusters is for our data?"
   ]
  },
  {
   "cell_type": "code",
   "execution_count": null,
   "id": "87c6f82f",
   "metadata": {},
   "outputs": [],
   "source": [
    "# imports from sklearn\n",
    "from sklearn.datasets import make_blobs\n",
    "from sklearn.cluster import KMeans\n",
    "from sklearn.metrics import silhouette_score\n",
    "\n",
    "# make up some data\n",
    "X, y = make_blobs(n_samples=300, n_features=2, centers=3, random_state=42)\n",
    "\n",
    "# create and fit the Kmeans object\n",
    "kmns = KMeans(n_clusters=3, random_state=42)\n",
    "kmns.fit(X)\n",
    "\n",
    "# extract the key clustering outputs\n",
    "centroids= kmns.cluster_centers_\n",
    "membership = kmns.predict(X)\n",
    "ss = silhouette_score(X, membership)\n",
    "inertia = kmns.inertia_\n",
    "\n",
    "# plot the clusters\n",
    "plt.figure(figsize=(6,4))\n",
    "plt.scatter(X[:, 0], X[:, 1], c=membership, cmap='viridis', marker='o', edgecolor='k', s=50)\n",
    "plt.scatter(kmns.cluster_centers_[:, 0], kmns.cluster_centers_[:, 1], c='red', marker='x', s=100, label='Cluster centers')\n",
    "plt.title(f\"KMeans Clustering (k=4), inertia={inertia:3.2f}\"); plt.xlabel('Feature 1'); plt.ylabel('Feature 2')\n",
    "plt.show()"
   ]
  },
  {
   "cell_type": "markdown",
   "id": "149a360e",
   "metadata": {},
   "source": [
    "### 3.3 DBSCAN"
   ]
  },
  {
   "cell_type": "code",
   "execution_count": null,
   "id": "dfeb8c16",
   "metadata": {},
   "outputs": [],
   "source": [
    "from sklearn.datasets import make_blobs\n",
    "from sklearn.cluster import DBSCAN\n",
    "from sklearn.preprocessing import StandardScaler\n",
    "\n",
    "# make clusters\n",
    "X, y = make_blobs(n_samples=200, centers=2, cluster_std=1.5, random_state=42)\n",
    "\n",
    "# add nosie\n",
    "np.random.seed(42)\n",
    "X = np.vstack([X, np.random.rand(50, 2) * 14 - 5])\n",
    "\n",
    "# Apply DBSCAN algorithm\n",
    "eps = 2.0\n",
    "min_samples = 5\n",
    "dbscan = DBSCAN(eps=eps, min_samples=min_samples)\n",
    "y_dbscan = dbscan.fit_predict(X)\n",
    "\n",
    "# Plot the clusters\n",
    "f,(ax1,ax2)=plt.subplots(1,2,figsize=(10, 4))\n",
    "ax1.plot(X[:, 0], X[:, 1], 'o', color=[0.7,0.7,0.7], ms=7, mec='k')\n",
    "unique_labels = np.unique(y_dbscan[y_dbscan != -1])\n",
    "for label,c in zip(unique_labels,['y','m']):\n",
    "    ax2.plot(X[y_dbscan == label, 0], X[y_dbscan == label, 1], c+'o', mec='k', ms=7, label=f\"Cluster {label}\")\n",
    "ax2.scatter(X[y_dbscan == -1, 0], X[y_dbscan == -1, 1], color='gray', s=50, label=\"Noise\")\n",
    "ax2.set_title(\"DBSCAN Clustering\")\n",
    "ax2.set_xlabel(\"Feature 1\")\n",
    "ax2.set_ylabel(\"Feature 2\")\n",
    "ax2.legend()\n",
    "plt.tight_layout()\n",
    "plt.show()"
   ]
  },
  {
   "cell_type": "markdown",
   "id": "bd289d17",
   "metadata": {},
   "source": [
    "## 4. Hypothesis Testing\n",
    "\n",
    "Work through the examples below during the lecture"
   ]
  },
  {
   "cell_type": "markdown",
   "id": "499ef082",
   "metadata": {},
   "source": [
    "### 4.1 T-test"
   ]
  },
  {
   "cell_type": "code",
   "execution_count": null,
   "id": "cbae9037",
   "metadata": {},
   "outputs": [],
   "source": [
    "from scipy import stats\n",
    "# Data: compressive strength measurements of two concrete types\n",
    "concrete_type_A = [30, 32, 31, 33, 29, 28, 30, 31, 32, 30]\n",
    "concrete_type_B = [35, 34, 33, 36, 32, 31, 33, 34, 35, 33]\n",
    "\n",
    "# Perform an independent two-sample t-test\n",
    "t_statistic, p_value = stats.ttest_ind(concrete_type_A, concrete_type_B)\n",
    "\n",
    "# Set significance level (alpha)\n",
    "alpha = 0.05\n",
    "if p_value < alpha: \n",
    "    print(p_value, 'different means')"
   ]
  },
  {
   "cell_type": "markdown",
   "id": "d3ac8e34",
   "metadata": {},
   "source": [
    "### 4.2 Kendall's Rank Correlation"
   ]
  },
  {
   "cell_type": "code",
   "execution_count": null,
   "id": "f01ed8a4",
   "metadata": {},
   "outputs": [],
   "source": [
    "# Data: stage and flow measurements on a river\n",
    "stage = [1.2, 1.5, 1.8, 2.0, 2.3, 2.6, 2.9, 3.2, 3.5, 3.8]\n",
    "flow = [11.0, 11.3, 12.0, 12.3, 18.0, 18.5, 19.8, 25.3, 28.3, 28.2]\n",
    "\n",
    "# Calculate Kendall's tau and p-value\n",
    "tau, p_value = stats.kendalltau(stage, flow)\n",
    "\n",
    "# - A positive tau indicates a positive correlation (as stage height increases, river flow tends to increase).\n",
    "# - The p-value tells us if the correlation is statistically significant.\n",
    "tau, p_value = stats.kendalltau(stage[::3], flow[::3])\n",
    "print(tau, p_value)"
   ]
  },
  {
   "cell_type": "markdown",
   "id": "aff4d24b",
   "metadata": {},
   "source": [
    "### 4.3 Mann-Whitney U test"
   ]
  },
  {
   "cell_type": "code",
   "execution_count": null,
   "id": "0b446b4f",
   "metadata": {},
   "outputs": [],
   "source": [
    "# Perform the Mann Whitney U test\n",
    "statistic, p_value = stats.mannwhitneyu(concrete_type_A, concrete_type_B, alternative='two-sided')\n",
    "\n",
    "# Set significance level (alpha)\n",
    "alpha = 0.05\n",
    "if p_value < alpha: \n",
    "    print('different medians')"
   ]
  },
  {
   "cell_type": "markdown",
   "id": "2dc8a8e2",
   "metadata": {},
   "source": [
    "# Predictive AI"
   ]
  },
  {
   "cell_type": "markdown",
   "id": "06b59788",
   "metadata": {},
   "source": [
    "## 5. Supervised Learning"
   ]
  },
  {
   "cell_type": "code",
   "execution_count": null,
   "id": "900898e7",
   "metadata": {},
   "outputs": [],
   "source": [
    "# imports and data definitions\n",
    "import numpy as np\n",
    "import matplotlib.pyplot as plt\n",
    "from scipy.optimize import minimize     # find parameters that minimize the input\n",
    "from functools import partial           # locks the first N inputs to the function to particular values\n",
    "from sklearn.linear_model import LinearRegression     # multi-variate linear model\n",
    "X=np.array([[1.87,6.66,0.78,8.34],[4.75,2.99,0.78,5.91]])\n",
    "y=np.array([15.28,17.04,3.85,17.52])"
   ]
  },
  {
   "cell_type": "markdown",
   "id": "4df90793",
   "metadata": {},
   "source": [
    "### 5.1 Model 1A"
   ]
  },
  {
   "cell_type": "code",
   "execution_count": null,
   "id": "2e40e20b",
   "metadata": {},
   "outputs": [],
   "source": [
    "# extract the training set (three data points)\n",
    "rain=X[0,:3]\n",
    "runoff=y[:3]\n",
    "\n",
    "# find the best-fitting linear model\n",
    "    # define the loss function\n",
    "def sum_of_squared_differences(feature, runoff, pars):\n",
    "    m,c=pars\n",
    "    return np.sum([(runoff_i-m*feature_i-c)**2 for runoff_i,feature_i in zip(runoff,feature)])\n",
    "    # training\n",
    "m_best, c_best=minimize(partial(sum_of_squared_differences, rain, runoff), [1,1]).x\n",
    "\n",
    "# show the result\n",
    "f,ax=plt.subplots(1,1,figsize=(6,3))\n",
    "ax.plot(X[0,:], y, 'o', ms=5, color=[1., 0.5, 0.5], label='all')\n",
    "ax.plot(X[0,:3], y[:3], 'o', ms=3, color=[0.2, 0.2, 0.8], label='train')\n",
    "ax.plot([0,10], [c_best,m_best*10+c_best], ':', color=[0.2, 0.2, 0.8], label=f'y={m_best:3.2f}x+{c_best:3.2f}')\n",
    "ax.set_xlim([0,10]);ax.set_xlabel('rain')\n",
    "ax.set_ylim([0,25]);ax.set_ylabel('runoff')\n",
    "ax.set_title(f'sum of squares = {sum_of_squared_differences(X[0,:], y, [m_best, c_best]):3.2f}')\n",
    "ax.legend()\n",
    "plt.show()"
   ]
  },
  {
   "cell_type": "markdown",
   "id": "9894890f",
   "metadata": {},
   "source": [
    "### 5.2 Model 1B"
   ]
  },
  {
   "cell_type": "code",
   "execution_count": null,
   "id": "8e2755be",
   "metadata": {},
   "outputs": [],
   "source": [
    "# extract the training set (all data points)\n",
    "rain=X[0,:]\n",
    "runoff=y\n",
    "\n",
    "# find the best-fitting linear model\n",
    "    # use loss function defined above\n",
    "    # training\n",
    "m_best, c_best=minimize(partial(sum_of_squared_differences, rain, runoff), [1,1]).x\n",
    "\n",
    "# show the result\n",
    "f,ax=plt.subplots(1,1,figsize=(6,3))\n",
    "ax.plot(X[0,:], y, 'o', ms=5, color=[1., 0.5, 0.5], label='all')\n",
    "ax.plot(X[0,:], y[:], 'o', ms=3, color=[0.2, 0.2, 0.8], label='train')\n",
    "ax.plot([0,10], [c_best,m_best*10+c_best], ':', color=[1, 0.5, 0.5], label=f'y={m_best:3.2f}x+{c_best:3.2f}')\n",
    "ax.set_xlim([0,10]);ax.set_xlabel('rain')\n",
    "ax.set_ylim([0,25]);ax.set_ylabel('runoff')\n",
    "ax.set_title(f'sum of squares = {sum_of_squared_differences(X[0,:], y, [m_best, c_best]):3.2f}')\n",
    "ax.legend()\n",
    "plt.show()"
   ]
  },
  {
   "cell_type": "markdown",
   "id": "ff0f39a8",
   "metadata": {},
   "source": [
    "### 5.3 Model 2A"
   ]
  },
  {
   "cell_type": "code",
   "execution_count": null,
   "id": "6c6efea6",
   "metadata": {},
   "outputs": [],
   "source": [
    "# extract the training set (three data points)\n",
    "soil_condition=X[1,:3]\n",
    "runoff=y[:3]\n",
    "\n",
    "# find the best-fitting linear model\n",
    "    # define the loss function\n",
    "def sum_of_squared_differences(feature, runoff, pars):\n",
    "    m,c=pars\n",
    "    return np.sum([(runoff_i-m*feature_i-c)**2 for runoff_i,feature_i in zip(runoff,feature)])\n",
    "    # training\n",
    "m_best, c_best=minimize(partial(sum_of_squared_differences, soil_condition, runoff), [1,1]).x\n",
    "\n",
    "# show the result\n",
    "f,ax=plt.subplots(1,1,figsize=(6,3))\n",
    "ax.plot(X[1,:], y, 'o', ms=5, color=[1., 0.5, 0.5], label='all')\n",
    "ax.plot(X[1,:3], y[:3], 'o', ms=3, color=[0.2, 0.2, 0.8], label='train')\n",
    "ax.plot([0,7], [c_best,m_best*7+c_best], ':', color=[0.2, 0.2, 0.8], label=f'y={m_best:3.2f}x+{c_best:3.2f}')\n",
    "ax.set_xlim([0,7]);ax.set_xlabel('soil condition')\n",
    "ax.set_ylim([0,25]);ax.set_ylabel('runoff')\n",
    "ax.set_title(f'sum of squares = {sum_of_squared_differences(X[1,:], y, [m_best, c_best]):3.2f}')\n",
    "ax.legend()\n",
    "plt.show()"
   ]
  },
  {
   "cell_type": "markdown",
   "id": "178d057e",
   "metadata": {},
   "source": [
    "### 5.4 Model 2B"
   ]
  },
  {
   "cell_type": "code",
   "execution_count": null,
   "id": "c4ed127a",
   "metadata": {},
   "outputs": [],
   "source": [
    "# extract the training set (all data points)\n",
    "soil_condition=X[1,:]\n",
    "runoff=y\n",
    "\n",
    "# find the best-fitting linear model\n",
    "    # use loss function defined above\n",
    "    # training\n",
    "from scipy.optimize import minimize     # find parameters that minimize the input\n",
    "from functools import partial           # locks the first N inputs to the function to particular values\n",
    "m_best, c_best=minimize(partial(sum_of_squared_differences, soil_condition, runoff), [1,1]).x\n",
    "\n",
    "# show the result\n",
    "f,ax=plt.subplots(1,1,figsize=(6,3))\n",
    "ax.plot(X[1,:], y, 'o', ms=5, color=[1., 0.5, 0.5], label='all')\n",
    "ax.plot(X[1,:], y[:], 'o', ms=3, color=[0.2, 0.2, 0.8], label='train')\n",
    "ax.plot([0,7], [c_best,m_best*7+c_best], ':', color=[1, 0.5, 0.5], label=f'y={m_best:3.2f}x+{c_best:3.2f}')\n",
    "ax.set_xlim([0,7]);ax.set_xlabel('soil_condition')\n",
    "ax.set_ylim([0,25]);ax.set_ylabel('runoff')\n",
    "ax.set_title(f'sum of squares = {sum_of_squared_differences(X[1,:], y, [m_best, c_best]):3.2f}')\n",
    "ax.legend()\n",
    "plt.show()"
   ]
  },
  {
   "cell_type": "markdown",
   "id": "82fc4331",
   "metadata": {},
   "source": [
    "### 5.5 Model 3"
   ]
  },
  {
   "cell_type": "code",
   "execution_count": null,
   "id": "40c4fa56",
   "metadata": {},
   "outputs": [],
   "source": [
    "# Create feature matrix and label vector for training set\n",
    "X_train = X[:,:3].T\n",
    "y_train = y[:3]\n",
    "\n",
    "# Create a linear regression model\n",
    "model = LinearRegression()\n",
    "\n",
    "# Train the model\n",
    "model.fit(X_train, y_train)\n",
    "\n",
    "# Generate an out-of-sample point for prediction\n",
    "X_test = np.array([[8.34, 5.91]])  # Test point with two features\n",
    "\n",
    "# Make predictions\n",
    "y_pred = model.predict(X_test)\n",
    "\n",
    "# Plot the data points and the linear regression plane\n",
    "fig = plt.figure()\n",
    "ax = fig.add_subplot(111, projection='3d')\n",
    "ax.scatter(X_train[:, 0], X_train[:, 1], y_train, color='blue', label='Training data')\n",
    "ax.scatter(X_test[:, 0], X_test[:, 1], y_pred, color='red', label='Test prediction')\n",
    "\n",
    "# Create a meshgrid for plotting the regression plane\n",
    "x_grid, y_grid = np.meshgrid(np.linspace(0, 9, 50), np.linspace(0, 6, 50))\n",
    "z_grid = model.predict(np.c_[x_grid.ravel(), y_grid.ravel()]).reshape(x_grid.shape)\n",
    "ax.plot_surface(x_grid, y_grid, z_grid, alpha=0.5, cmap='viridis')#, label='Linear regression plane')\n",
    "\n",
    "ax.set_xlabel('rainfall')\n",
    "ax.set_ylabel('soil condition')\n",
    "ax.set_zlabel('runoff')\n",
    "ax.set_title('Simple Linear Regression with Two Features')\n",
    "ax.legend()\n",
    "plt.show()\n",
    "\n",
    "# Print the prediction result\n",
    "print(f\"Predicted value for X_test: {y_pred[0]:3.2f}. Sum of squares = {(y_pred[0]-y[-1])**2:3.2f}\")"
   ]
  },
  {
   "cell_type": "markdown",
   "id": "ea2716b9",
   "metadata": {},
   "source": [
    "## 6. Learning Algorithms"
   ]
  },
  {
   "cell_type": "code",
   "execution_count": null,
   "id": "281e2aaa",
   "metadata": {},
   "outputs": [],
   "source": [
    "# imports\n",
    "import pandas as pd\n",
    "import numpy as np"
   ]
  },
  {
   "cell_type": "markdown",
   "id": "d794883c",
   "metadata": {},
   "source": [
    "### 6.1 Decision Trees"
   ]
  },
  {
   "cell_type": "code",
   "execution_count": null,
   "id": "c460b39b",
   "metadata": {},
   "outputs": [],
   "source": [
    "# Consider the dataset below, describing seven bridges. For each, its load capacity, construction material and age is recorded.\n",
    "# An assessment of the bridge's safety has also been included, as a binary variable.\n",
    "data = [\n",
    "    {\"load_capacity\": 30, \"material_type\": \"Concrete\", \"age\": 5, \"safe\": True},\n",
    "    {\"load_capacity\": 60, \"material_type\": \"Steel\", \"age\": 15, \"safe\": True},\n",
    "    {\"load_capacity\": 70, \"material_type\": \"Concrete\", \"age\": 25, \"safe\": False},\n",
    "    {\"load_capacity\": 70, \"material_type\": \"Steel\", \"age\": 35, \"safe\": False},\n",
    "    {\"load_capacity\": 50, \"material_type\": \"Steel\", \"age\": 8, \"safe\": True},\n",
    "    {\"load_capacity\": 50, \"material_type\": \"Concrete\", \"age\": 10, \"safe\": False},\n",
    "    {\"load_capacity\": 35, \"material_type\": \"Steel\", \"age\": 3, \"safe\": True}\n",
    "]\n",
    "\n",
    "df = pd.DataFrame(data)\n",
    "print(df)\n",
    "\n",
    "# We wish to develop a model that can predict whether a bridge is safe based on its load capacity, material and age."
   ]
  },
  {
   "cell_type": "code",
   "execution_count": null,
   "id": "23814b33",
   "metadata": {
    "scrolled": true
   },
   "outputs": [],
   "source": [
    "# For this problem, we will use a decision tree that splits the dataset into subsets.\n",
    "# Run this cell to see how a dataframe is split into two subsets, according to a feature and value\n",
    "feature='load_capacity'\n",
    "split=50\n",
    "print(df.loc[df[feature]<=split])\n",
    "print(df.loc[df[feature]>split])"
   ]
  },
  {
   "cell_type": "code",
   "execution_count": null,
   "id": "8cb0a4b6",
   "metadata": {},
   "outputs": [],
   "source": [
    "from encn404 import decision_tree\n",
    "# run this cell below, and then use the controls below to complete the tasks\n",
    "decision_tree()\n",
    "\n",
    "# TASK 1\n",
    "# move the top slider to divide the dataset, trying both features\n",
    "# try to separate the safe and unsafe bridges as much as possible\n",
    "# when you are satisfied with the split of data, check the box to lock the root node\n",
    "\n",
    "# TASK 2\n",
    "# repeat the exercise for the lefthand and righthand sliders below\n",
    "# further separate and subdivide the data, trying to distinguish the two binary classes\n",
    "# can you construct a decision tree that classifies the two bridge types based on their features?\n",
    "\n",
    "# Consider the original dataframe given in the cells above. Which part is the feature matrix X, and\n",
    "# which is the label vector y?\n",
    "# What are the parameters of this model? What are the hyperparameters?\n",
    "\n",
    "# TASK 3\n",
    "# Suppose you are given a new bridge: load_capacity of 45, steel, and 10 years old. What would your model predict?"
   ]
  },
  {
   "cell_type": "code",
   "execution_count": null,
   "id": "f502a600",
   "metadata": {},
   "outputs": [],
   "source": [
    "# here is an AI written demo of sklearn's Decision Tree\n",
    "# Import necessary libraries\n",
    "import numpy as np\n",
    "import matplotlib.pyplot as plt\n",
    "from sklearn.datasets import load_iris\n",
    "from sklearn.tree import DecisionTreeClassifier, plot_tree\n",
    "from sklearn.model_selection import train_test_split\n",
    "from sklearn.metrics import accuracy_score\n",
    "\n",
    "# Load the Iris dataset (you can replace this with your own dataset)\n",
    "iris = load_iris()\n",
    "X, y = iris.data, iris.target\n",
    "\n",
    "# Split the data into training and testing sets\n",
    "X_train, X_test, y_train, y_test = train_test_split(X, y, test_size=0.2, random_state=42)\n",
    "\n",
    "# Create a Decision Tree classifier\n",
    "clf = DecisionTreeClassifier(random_state=42)\n",
    "\n",
    "# Train the model on the training data\n",
    "clf.fit(X_train, y_train)\n",
    "\n",
    "# Make predictions on the test data\n",
    "y_pred = clf.predict(X_test)\n",
    "\n",
    "# Calculate accuracy\n",
    "accuracy = accuracy_score(y_test, y_pred)\n",
    "print(f\"Accuracy: {accuracy:.2f}\")\n",
    "\n",
    "# Visualize the decision tree\n",
    "plt.figure(figsize=(10, 6))\n",
    "plot_tree(clf, filled=True, feature_names=iris.feature_names, class_names=iris.target_names)\n",
    "plt.show()"
   ]
  },
  {
   "cell_type": "markdown",
   "id": "5929d69b",
   "metadata": {},
   "source": [
    "### 6.2 Neural Networks"
   ]
  },
  {
   "cell_type": "code",
   "execution_count": null,
   "id": "0013d474",
   "metadata": {},
   "outputs": [],
   "source": [
    "# Neural network prediction of runoff, based on current and previous rainfall\n",
    "# note, all numbers have been normalized for convenience\n",
    "\n",
    "# feature matrix\n",
    "# columns: current rainfall, previous hour rainfall, previous runoff\n",
    "X = np.array([[0,0,1],        # rainfall has stopped, some runoff remains\n",
    "            [0,1,1],          # **describe**\n",
    "            [1,1,0],          # **describe**\n",
    "            [1,1,1]])         # **describe**\n",
    "\n",
    "# label vector: amount of current runoff\n",
    "y = np.array([[0.1],\n",
    "              [0.6],\n",
    "              [0.4],\n",
    "              [1.0]])\n",
    "\n",
    "# prediction: what will be the runoff for these features?\n",
    "predict=np.array([[0.5, 0.3, 0.8],])\n",
    "\n",
    "# run the cell below and then complete the tasks\n",
    "from encn404 import neural_network\n",
    "neural_network(X,y,predict)\n",
    "\n",
    "# TASK 0: model setup\n",
    "# consider the partial description of the feature matrix above, and complete the remaining rows\n",
    "# turn on the labels and read the descriptions of the model parts\n",
    "# each connector is an activation function - its color and thickness denote its weight (red=positive, blue=negative)\n",
    "\n",
    "# TASK 1: model training\n",
    "# (turn on labels if you are not sure what you are looking at)\n",
    "# how does the number of circles in the input layer reflect the input data?\n",
    "# is the number of circles in the hidden layer a parameter or a hyperparameter?\n",
    "\n",
    "# the model is initalized with random weights - use the slider to start training it\n",
    "# how does total error change as the number of training steps is increased?\n",
    "# how do the weights change during training?\n",
    "\n",
    "# use the slider to visualize a datapoint (a row of the feature matrix)\n",
    "# how does training improve the model prediction and the true label?\n",
    "\n",
    "# TASK 2: model prediction\n",
    "# which feature has the greatest total weight of connectors leaving it?\n",
    "# turn the prediction - does the answer make sense? Try a different prediction.\n",
    "\n",
    "# EXTRA:\n",
    "# make some changes to input features or labels and see how things change."
   ]
  },
  {
   "cell_type": "code",
   "execution_count": null,
   "id": "eea80a8d",
   "metadata": {},
   "outputs": [],
   "source": [
    "import numpy as np\n",
    "import matplotlib.pyplot as plt\n",
    "from sklearn.neural_network import MLPRegressor\n",
    "from sklearn.model_selection import train_test_split\n",
    "from sklearn.metrics import mean_squared_error\n",
    "\n",
    "# Generate synthetic data with two predictors (X1 and X2)\n",
    "np.random.seed(42)\n",
    "n_samples = 100\n",
    "X1 = np.random.rand(n_samples, 1)\n",
    "X2 = np.random.rand(n_samples, 1)\n",
    "y = X1**3 + 2 * X2**2 + 3 * X1 * X2 + np.random.randn(n_samples, 1) * 2\n",
    "\n",
    "# Combine X1 and X2 into a single feature matrix\n",
    "X = np.hstack((X1, X2))\n",
    "\n",
    "# Split the data into training and test sets\n",
    "X_train, X_test, y_train, y_test = train_test_split(X, y, test_size=0.2, random_state=42)\n",
    "\n",
    "# TASK\n",
    "# play with the hidden_layer_sizes, e.g., (10,10,10), max_iter (e.g., 10000), and other parameters\n",
    "# to see if you can improve the model fit.\n",
    "# Create an MLPRegressor model\n",
    "model = MLPRegressor(hidden_layer_sizes=(10, 5), activation='relu', solver='adam', max_iter=1000)\n",
    "\n",
    "# Train the model\n",
    "model.fit(X_train, y_train)\n",
    "\n",
    "# Make predictions on the test set\n",
    "y_pred = model.predict(X_test)\n",
    "\n",
    "# Evaluate the model\n",
    "mse = mean_squared_error(y_test, y_pred)\n",
    "print(f\"Mean Squared Error: {mse:.4f}\")\n",
    "\n",
    "# Visualize the predictions (you can modify this part as needed)\n",
    "plt.figure(figsize=(8, 6))\n",
    "plt.scatter(y_train, model.predict(X_train), color='r', alpha=0.7, label='in-sample')\n",
    "plt.scatter(y_test, y_pred, color='b', alpha=0.7, label='out-of-sample')\n",
    "plt.plot([min(y_test), max(y_test)], [min(y_test), max(y_test)], color='r', linestyle='--')\n",
    "plt.xlabel(\"True values\")\n",
    "plt.ylabel(\"Predicted values\")\n",
    "plt.title(\"Cubic Function Regression with Neural Network\")\n",
    "plt.legend()\n",
    "plt.show()\n"
   ]
  },
  {
   "cell_type": "markdown",
   "id": "296f50c2",
   "metadata": {},
   "source": [
    "## 7. Performance Metrics"
   ]
  },
  {
   "cell_type": "code",
   "execution_count": null,
   "id": "4e718e85",
   "metadata": {},
   "outputs": [],
   "source": [
    "# imports\n",
    "import pandas as pd"
   ]
  },
  {
   "cell_type": "markdown",
   "id": "6302f79a",
   "metadata": {},
   "source": [
    "### 7.1 Classification models\n",
    "\n",
    "Consider a classification problem where we are trying to predict whether a site will be contaminated based on environmental indicators.\n",
    "\n",
    "'contamination'= 1 denotes a contaminated site."
   ]
  },
  {
   "cell_type": "code",
   "execution_count": null,
   "id": "52351993",
   "metadata": {},
   "outputs": [],
   "source": [
    "# import and summarize the environmental data (last column is target/label)\n",
    "df=pd.read_csv('enviro_data.csv')\n",
    "print(df.shape)\n",
    "df.head()"
   ]
  },
  {
   "cell_type": "markdown",
   "id": "07bef604",
   "metadata": {},
   "source": [
    "We'll use a RandomForest model to fit these data and try solve the classification problem.\n",
    "- A random forest comprises lots of decision trees.\n",
    "- The number of trees in the forest is a hyperparameter.\n",
    "- The model output is a number between 0 and 1.\n",
    "- We convert the output to a binary prediction by comparing against a threshold value. "
   ]
  },
  {
   "cell_type": "code",
   "execution_count": null,
   "id": "aa12163b",
   "metadata": {},
   "outputs": [],
   "source": [
    "# run this cell and answer the questions below\n",
    "from encn404 import roc\n",
    "roc()\n",
    "\n",
    "# TASK 1\n",
    "# for the default settings, referring to the confusion matrix:\n",
    "# - how many contaminated sites are in the dataset?\n",
    "# - how many contaminated sites are predicted by the model?\n",
    "# - what is the \"rate\" of correct model predictions?\n",
    "\n",
    "# TASK 2\n",
    "# change the slider so the threshold to predict contamination is lower\n",
    "# - which column gains more counts?\n",
    "# - does the sum across a row change? why/why not?\n",
    "# - which square in the conf. matrix is for false positives?\n",
    "# - increase the threshold to minimize false positives - what is the tradeoff?\n",
    "\n",
    "# TASK 3\n",
    "# change the number of trees\n",
    "# - how does hyperparameter selection affect model performance?"
   ]
  },
  {
   "cell_type": "markdown",
   "id": "2b63ce79",
   "metadata": {},
   "source": [
    "### 7.2 Regression models\n",
    "\n",
    "Consider a regression problem where we are trying to fit the structural integrity score, $SI$, of a general building using a multivariate linear regression to several of its features, $X_i$.\n",
    "\n",
    "$$ SI = \\beta_0 + \\beta_1 X_1 + \\beta_2 X_2 + ... + \\epsilon $$\n",
    "\n",
    "where the coefficients $\\beta_i$ are determined during model training and $\\epsilon$ is the remaining error (called the residual).\n",
    "\n",
    "The exercise below consider six possible features."
   ]
  },
  {
   "cell_type": "code",
   "execution_count": null,
   "id": "46c07d4a",
   "metadata": {},
   "outputs": [],
   "source": [
    "# run this cell and answer the questions below\n",
    "from encn404 import regression_performance\n",
    "regression_performance()\n",
    "\n",
    "# TASK 1\n",
    "# inspect the output (without adjusting any of the checkboxes):\n",
    "# - what are six ways to evaluate how good a regression model is?\n",
    "# - does each measure give the same information about model performance?\n",
    "\n",
    "# TASK 2\n",
    "# use checkboxes to turn off just one feature\n",
    "# - does error increase or decrease when features are dropped?\n",
    "# - does each feature, when dropped, cause the same error change?\n",
    "# - could you use this behaviour to decide which features are most important?\n",
    "# - what appears to be the most important feature?\n",
    "\n",
    "# TASK 3\n",
    "# use checkboxes to turn off two features\n",
    "# - is the change in error additive? e.g., is the change in R-squared from \n",
    "# dropping two features the sum of the changes when those features are dropped \n",
    "# individually?\n",
    "\n",
    "# TASK 4\n",
    "# turn off checkboxes until only one feature remains\n",
    "# - what is the single most important feature in this model?"
   ]
  },
  {
   "cell_type": "markdown",
   "id": "64835b00",
   "metadata": {},
   "source": [
    "## 8. Cross Validation"
   ]
  },
  {
   "cell_type": "code",
   "execution_count": null,
   "id": "5f7e726d",
   "metadata": {},
   "outputs": [],
   "source": [
    "# imports\n",
    "import pandas as pd"
   ]
  },
  {
   "cell_type": "markdown",
   "id": "7810b044",
   "metadata": {},
   "source": [
    "In this exercise, we'll look at some eye tracking data of the kind that might be analysed in a VR research study. In this case, the dataset records whether a subject's eyes are open or closed (the binary target). The features for prediction are continuous recordings from a set of 14 electrodes placed on the subject's head."
   ]
  },
  {
   "cell_type": "code",
   "execution_count": null,
   "id": "884387de",
   "metadata": {
    "scrolled": true
   },
   "outputs": [],
   "source": [
    "# import and summarize the environmental data (last column is target/label)\n",
    "df=pd.read_csv('eye_movement.csv')\n",
    "print(df.shape)\n",
    "df.head()"
   ]
  },
  {
   "cell_type": "markdown",
   "id": "f4d9d29d",
   "metadata": {},
   "source": [
    "The exercise below considers issues of **train-test split, hyperparameter tuning, and overfitting**, as they apply to this classification problem."
   ]
  },
  {
   "cell_type": "code",
   "execution_count": null,
   "id": "dce80cc8",
   "metadata": {},
   "outputs": [],
   "source": [
    "# run this cell and answer the questions below\n",
    "from encn404 import cross_validation\n",
    "cross_validation()\n",
    "\n",
    "# TASK 1\n",
    "# inspect the output (without adjusting anything):\n",
    "# - what is the black line, and what does it mean when it switches back and forth?\n",
    "# - what are the blue and red lines?\n",
    "# - what do the two errors in the legend refer to?\n",
    "\n",
    "# TASK 2 - train-test split\n",
    "# slide the Training Data slider back and forth\n",
    "# - what is changing in terms of model input and predictions?\n",
    "# - is the error changing?\n",
    "\n",
    "# TASK 3 - hyperparameter tuning\n",
    "# slide the Max Depth slider so that trees can have more and more branches\n",
    "# - how does the fit between the blue and black line change?\n",
    "# - how does the error improve?\n",
    "\n",
    "# TASK 4 - overfitting\n",
    "# slide Max Depth to its largest value\n",
    "# - is this model good at fitting the data? does it have a low error?\n",
    "# - is this model any good at making predictions?"
   ]
  },
  {
   "cell_type": "markdown",
   "id": "efffe96e",
   "metadata": {},
   "source": [
    "# Generative AI"
   ]
  },
  {
   "cell_type": "markdown",
   "id": "dda638ce",
   "metadata": {},
   "source": [
    "For the exercises below, you will need access to a Generative AI. The goal is to prompt the AI to produce working Python code that meets your specified requirements. In all likelihood, you will still need to do debugging. You should also recognize that there is a risk that you won't fully understand how a code works and what its limitations are.\n",
    "\n",
    "Nevertheless, let's dive in."
   ]
  },
  {
   "cell_type": "markdown",
   "id": "077ea7e4",
   "metadata": {},
   "source": [
    "## 9. Data Analysis"
   ]
  },
  {
   "cell_type": "markdown",
   "id": "19b6dbc8",
   "metadata": {},
   "source": [
    "Suppose we have a csv file. We're curious about its contents and want an AI to make it as easy as possible to discover what's in there. \n",
    "\n",
    "The prompts below take a two step approach. First, we'll ask the AI to write an explorative Python script. Its goal is simply to read the file and report back what is inside it. Then, we'll ask it to write a second script that performs a detailed analysis, using the output that has been reported by the first script.\n",
    "\n",
    "**Prompt 1**: Copy this into [Bing Copilot](https://www.bing.com/chat?q=Bing+AI&FORM=hpcodx) and then paste the code the AI gives you into the cell below. Run it by hitting Ctrl+Enter\n",
    "\n",
    "> \"Can you write me a python script to investigate the contents of enviro_data.csv file and print a summary? The summary should include the file name and other helpful information for a second prompt that will plan in more detail a python script to analyse the file\"\n",
    "\n",
    "**Prompt 2**: Copy this into [Bing Copilot](https://www.bing.com/chat?q=Bing+AI&FORM=hpcodx) AND the printed output of the first code. Paste the code the AI gives you into the cell below. Run it by hitting Ctrl+Enter\n",
    "\n",
    "> \"Can you write me a Python script to do a detailed analysis of a csv file. I will paste a summary of the csv file at the end of this prompt. Your script should provide a comprehensive visual summary, including multiple plots and summarizing information that might be helpful for the task of data exploration. The summary of the dataset follows: \\*paste output from the previous code here\\*\"\n",
    "\n",
    "**What to do if the code doesn't run and you get an error?**: Copy-paste the error straight back into the AI and hand off the problem. Prompt with something like \n",
    "\n",
    ">\"How do I fix this? \\*pasted error message\\*\""
   ]
  },
  {
   "cell_type": "code",
   "execution_count": null,
   "id": "901d8d1a",
   "metadata": {},
   "outputs": [],
   "source": [
    "# copy-paste Python code into this cell and run by hitting Ctrl+Enter"
   ]
  },
  {
   "cell_type": "markdown",
   "id": "59fabc57",
   "metadata": {},
   "source": [
    "## 10. Software Engineering"
   ]
  },
  {
   "cell_type": "markdown",
   "id": "63e87e8e",
   "metadata": {},
   "source": [
    "At the risk of simplifying an enormous field, software engineers who produce good code do three things well: understand **requirements**, translate these to code **specifications**, and put their code through **testing**. \n",
    "\n",
    "**Requirements**: This is the stage where the needs or conditions to meet for a new or altered product are gathered. The goal is to clearly understand what the stakeholders need, which involves communication and collaboration.\n",
    "\n",
    "> For AI-coding, you are the stakeholder. What do you need? What is your goal? Prepare to write this down.\n",
    "\n",
    "**Specification**: Once the requirements are understood, they are translated into a detailed document that describes the software to be written. Specifications act as a blueprint for the development process, outlining features, functionalities, and constraints.\n",
    "\n",
    "> For AI-coding, you might also take charge of this step. What should the code accept as inputs? What should it return as outputs?\n",
    "\n",
    "**Testing**: This is the process of evaluating the software to ensure it meets the specified requirements and is free of defects. Testing can be done in various forms, including unit testing, integration testing, system testing, and acceptance testing.\n",
    "\n",
    "> Let's pass this one off to the AI."
   ]
  },
  {
   "cell_type": "markdown",
   "id": "ce450ec4",
   "metadata": {},
   "source": [
    "Pass the prompt below into [Bing Copilot](https://www.bing.com/chat?q=Bing+AI&FORM=hpcodx), and then copy-paste its code into the box below.\n",
    "\n",
    "> I want to sort a list of numbers. Please write me Python code that accepts an unsorted list, applies the heap sort algorithm, and returns the sorted list and corresponding indices. Please also write code that tests the function is operating correctly."
   ]
  },
  {
   "cell_type": "code",
   "execution_count": null,
   "id": "04248605",
   "metadata": {},
   "outputs": [],
   "source": [
    "# copy-paste Python code into this cell and run by hitting Ctrl+Enter"
   ]
  },
  {
   "cell_type": "markdown",
   "id": "d70b577d",
   "metadata": {},
   "source": [
    "## Other"
   ]
  },
  {
   "cell_type": "code",
   "execution_count": null,
   "id": "57c7e371",
   "metadata": {
    "scrolled": true
   },
   "outputs": [],
   "source": [
    "# Generate some sample time series data\n",
    "np.random.seed(16)\n",
    "ts = np.concatenate([np.random.randn(150)*si for si in [1.3, 2.4, 0.7, 1.9, 1.3]])\n",
    "\n",
    "fs = np.concatenate([np.sin(np.linspace(0,2*np.pi*150,150)/ti)*ai for ti,ai in zip([10, 30, 50, 15, 25],[0.1,0.5,0.3,0.8,0.2])])\n",
    "ts = np.cumsum(ts)+35+fs*10\n",
    "print(np.mean(fs), np.std(fs))\n",
    "\n",
    "ts = pd.Series(ts, index=pd.date_range('1/1/2000', periods=len(ts)))"
   ]
  },
  {
   "cell_type": "code",
   "execution_count": null,
   "id": "22aa1e0c",
   "metadata": {},
   "outputs": [],
   "source": [
    "# generate some correlated data\n",
    "import numpy as np\n",
    "import pandas as pd\n",
    "import matplotlib.pyplot as plt\n",
    "\n",
    "# Generate synthetic data\n",
    "np.random.seed(42)\n",
    "\n",
    "# Number of data points\n",
    "n = 100\n",
    "\n",
    "# Generate random data for cement, water, and age\n",
    "cement = np.random.uniform(200, 400, n)\n",
    "water = np.random.uniform(150, 250, n)\n",
    "age = np.random.uniform(1, 365, n)\n",
    "\n",
    "# Calculate cement-to-water ratio\n",
    "cement_water_ratio = cement / water\n",
    "\n",
    "# Generate synthetic strength data correlated with cement-age product and cement-to-water ratio\n",
    "strength = 10 * (cement * age) + 100.e4 * cement_water_ratio #+ np.random.normal(0, 5, n)\n",
    "\n",
    "# Create a DataFrame\n",
    "df = pd.DataFrame({\n",
    "    'Cement': cement,\n",
    "    'Water': water,\n",
    "    'Age': age,\n",
    "    'Strength': strength\n",
    "})\n",
    "\n",
    "# Add some noise to individual inputs\n",
    "df['Cement'] += np.random.normal(0, 20, n)\n",
    "df['Water'] += np.random.normal(0, 20, n)\n",
    "df['Age'] += np.random.normal(0, 20, n)\n",
    "\n",
    "# df.to_csv('concrete_data.csv', index=False)"
   ]
  }
 ],
 "metadata": {
  "kernelspec": {
   "display_name": "Python (ucnz)",
   "language": "python",
   "name": "ucnz"
  },
  "language_info": {
   "codemirror_mode": {
    "name": "ipython",
    "version": 3
   },
   "file_extension": ".py",
   "mimetype": "text/x-python",
   "name": "python",
   "nbconvert_exporter": "python",
   "pygments_lexer": "ipython3",
   "version": "3.11.9"
  }
 },
 "nbformat": 4,
 "nbformat_minor": 5
}
