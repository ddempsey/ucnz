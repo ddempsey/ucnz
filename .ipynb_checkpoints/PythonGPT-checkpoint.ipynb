{
 "cells": [
  {
   "cell_type": "markdown",
   "id": "f14eba4b",
   "metadata": {},
   "source": [
    "# Generative AI"
   ]
  },
  {
   "cell_type": "markdown",
   "id": "1dea5586",
   "metadata": {},
   "source": [
    "For the exercises below, you will need access to a Generative AI. The goal is to prompt the AI to produce working Python code that meets your specified requirements. In all likelihood, you will still need to do debugging. You should also recognize that there is a risk that you won't fully understand how a code works and what its limitations are.\n",
    "\n",
    "Nevertheless, let's dive in."
   ]
  },
  {
   "cell_type": "markdown",
   "id": "25b576e5-11ab-4617-909b-9ccb15abb3b8",
   "metadata": {},
   "source": [
    "## Specification Prompting"
   ]
  },
  {
   "cell_type": "markdown",
   "id": "2aaa8b6b-1407-47ea-a276-c1092696b0cb",
   "metadata": {},
   "source": [
    "If you are going to use an AI to help you write code, try to mock a software engineer/manager dynamic. Create a specification and request test cases. The specification should include (1) the purpose, (2) the inputs, (3) the outputs, and (optionally, 4) the algorithm to use."
   ]
  },
  {
   "attachments": {},
   "cell_type": "markdown",
   "id": "be417f12-c50e-4f71-8311-9984379ad94b",
   "metadata": {},
   "source": [
    "**Prompt 1**: Copy this into [Bing Copilot](https://www.bing.com/chat?q=Bing+AI&FORM=hpcodx) and then paste the code the AI gives you into the cell below. Run it by hitting Ctrl+Enter\n",
    "\n",
    "> (1) Write a Python function to sort a list. (2) The function inputs are a list and a flag to indicate whether it should sort in ascending or descending order. (3) The output should be the sorted list and a list of indices that could be used to sort a corresponding list the same way. (4) Use the heap sort algorithm.\n",
    "\n",
    "**Prompt 2**: Copy this into [Bing Copilot](https://www.bing.com/chat?q=Bing+AI&FORM=hpcodx) and then paste the code the AI gives you into the cell below. Run it by hitting Ctrl+Enter.\n",
    "\n",
    "> Thanks. Please also write me a test function to verify this code is working correctly."
   ]
  },
  {
   "cell_type": "code",
   "execution_count": null,
   "id": "dcf496cf-61f0-4998-87c1-29b47e85db96",
   "metadata": {},
   "outputs": [],
   "source": [
    "# copy-paste Python code into this cell and run by hitting Ctrl+Enter"
   ]
  },
  {
   "cell_type": "markdown",
   "id": "39a000dd",
   "metadata": {},
   "source": [
    "## Data Analysis"
   ]
  },
  {
   "cell_type": "markdown",
   "id": "25eac282",
   "metadata": {},
   "source": [
    "Suppose we have a csv file. We're curious about its contents and want an AI to make it as easy as possible to discover what's in there. \n",
    "\n",
    "The prompts below take a two step approach. First, we'll ask the AI to write an explorative Python script. Its goal is simply to read the file and report back what is inside it. Then, we'll ask it to write a second script that performs a detailed analysis, using the output that has been reported by the first script.\n",
    "\n",
    "**Prompt 1**: Copy this into [Bing Copilot](https://www.bing.com/chat?q=Bing+AI&FORM=hpcodx) and then paste the code the AI gives you into the cell below. Run it by hitting Ctrl+Enter\n",
    "\n",
    "> \"Can you write me a python script to investigate the contents of enviro_data.csv file and print a summary? The summary should include the file name and other helpful information for a second prompt that will plan in more detail a python script to analyse the file\"\n",
    "\n",
    "**Prompt 2**: Copy this into [Bing Copilot](https://www.bing.com/chat?q=Bing+AI&FORM=hpcodx) AND the printed output of the first code. Paste the code the AI gives you into the cell below. Run it by hitting Ctrl+Enter\n",
    "\n",
    "> \"Can you write me a Python script to do a detailed analysis of a csv file. I will paste a summary of the csv file at the end of this prompt. Your script should provide a comprehensive visual summary, including multiple plots and summarizing information that might be helpful for the task of data exploration. The summary of the dataset follows: \\*paste output from the previous code here\\*\"\n",
    "\n",
    "**What to do if the code doesn't run and you get an error?**: Copy-paste the error straight back into the AI and hand off the problem. Prompt with something like \n",
    "\n",
    ">\"How do I fix this? \\*pasted error message\\*\""
   ]
  },
  {
   "cell_type": "code",
   "execution_count": null,
   "id": "b2391da5",
   "metadata": {},
   "outputs": [],
   "source": [
    "# copy-paste Python code into this cell and run by hitting Ctrl+Enter"
   ]
  }
 ],
 "metadata": {
  "kernelspec": {
   "display_name": "Python 3 (ipykernel)",
   "language": "python",
   "name": "python3"
  },
  "language_info": {
   "codemirror_mode": {
    "name": "ipython",
    "version": 3
   },
   "file_extension": ".py",
   "mimetype": "text/x-python",
   "name": "python",
   "nbconvert_exporter": "python",
   "pygments_lexer": "ipython3",
   "version": "3.11.9"
  }
 },
 "nbformat": 4,
 "nbformat_minor": 5
}
